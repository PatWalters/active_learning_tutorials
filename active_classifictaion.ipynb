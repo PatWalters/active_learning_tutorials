{
 "cells": [
  {
   "cell_type": "markdown",
   "id": "d0dba865",
   "metadata": {
    "pycharm": {
     "name": "#%% md\n"
    }
   },
   "source": [
    "### Introduction\n",
    "In active learning (AL), we use a machine learning (ML) model as a surrogate for a more computationally expensive method.  Let's say we want to dock millions of molecules, but have limited computational resources.  We could sample a subset of the molecules we want to dock and dock the subset.  The chemical structures and docking scores for the subset could then be used to build an ML model to predict the docking scores for the entire set of molecules. In AL, we perform multiple cycles of this prediction and sampling workflow. Throughout the process, we want to balance two parameters.\n",
    "- Exploration - efficiently search the chemical space and identify the most promising regions\n",
    "- Explotation - focus the search on the most interesting regions of chemical space\n",
    "\n",
    "This process is illustrated in the figure below.  The two red boxes represent the **oracle** that performs the more expensive calculations.\n",
    "<br>\n",
    "<center><img src=\"images/active_learning.png\" alt=\"active learning figure\" width=\"800\"/></center>"
   ]
  },
  {
   "cell_type": "markdown",
   "id": "145192fd",
   "metadata": {
    "pycharm": {
     "name": "#%% md\n"
    }
   },
   "source": [
    "1. Begin with a pool of M molecules\n",
    "2. Sample N molecules from the pool\n",
    "3. Perform the computationally expensive calculations on the subset of N molecules.  If our objective is docking, we dock the N molecules.\n",
    "4. The chemical structures and docking scores for the N molecules are used to build an ML model\n",
    "5. The model from step 4 ised to predict values for the M molecules from step 1\n",
    "6. The predictions from the previous step are used to select another set of N molecules.  There are several ways to do this.  One of the simplest is a **greedy** search where we select the N best scoring molecules.  Alternately, we can employ strategies that use the uncertainty in the predictions to direct exploration.\n",
    "7. Perform the computationally expensive calculations on the molecules selected in step 6. If our objective is docking, we would dock the N molecules.\n",
    "8. The results from step 7 are combined with the results from step 3 and the model is retrained.\n",
    "Steps 4 through 8 can be repeated multiple times\n",
    "\n",
    "In the example below, we use AL to dock a set of 100K molecules.  To make this exercise more time efficient, we'll look up the activity rather performing the docking. The code below uses modAL, an open source library for active learning. Modal provides several different AL strategies."
   ]
  },
  {
   "cell_type": "markdown",
   "id": "f64d67f8",
   "metadata": {
    "pycharm": {
     "name": "#%% md\n"
    }
   },
   "source": [
    "### Setup"
   ]
  },
  {
   "cell_type": "code",
   "execution_count": 1,
   "id": "4cce7404",
   "metadata": {
    "pycharm": {
     "name": "#%%\n"
    }
   },
   "outputs": [],
   "source": [
    "import numpy as np\n",
    "import pandas as pd\n",
    "import seaborn as sns\n",
    "import useful_rdkit_utils as uru\n",
    "from modAL.models import ActiveLearner\n",
    "from sklearn.ensemble import RandomForestClassifier\n",
    "from tqdm.auto import tqdm"
   ]
  },
  {
   "cell_type": "markdown",
   "id": "6ba10e39",
   "metadata": {
    "pycharm": {
     "name": "#%% md\n"
    }
   },
   "source": [
    "Enable Pandas **progress_apply**"
   ]
  },
  {
   "cell_type": "code",
   "execution_count": 2,
   "id": "75cbe78c",
   "metadata": {
    "pycharm": {
     "name": "#%%\n"
    }
   },
   "outputs": [],
   "source": [
    "tqdm.pandas()"
   ]
  },
  {
   "cell_type": "markdown",
   "id": "b74fd873",
   "metadata": {
    "pycharm": {
     "name": "#%% md\n"
    }
   },
   "source": [
    "Read data from [\"Traversing Chemical Space with Active Deep Learning\"](https://chemrxiv.org/engage/chemrxiv/article-details/654a603348dad23120461847) by Derek van Tilborg and Francesca Grisoni. \n",
    "\n",
    "The data is formatted with SMILES and 1 or 0 inidicating active or inactive. \n",
    "```\n",
    "smiles,y\n",
    "COc1cc(/C=N/NC(=O)C(=O)NCC2CCCO2)ccc1O,0\n",
    "CC1CCCCC12NC(=O)N(CC(=O)Nc1ccc(N3CCOCC3)cc1)C2=O,0\n",
    "C[NH+]1CCCC(OC(=O)c2cccc(Cl)c2)C1,0\n",
    "CCOc1ccc(C(=O)NCC(=O)OCC(=O)N2CCCC2)cc1,0\n",
    "```\n",
    "After reading the data w generate fingerprints as descriptors. The function **uru.smi2numpy_fp** takes SMILES as input and returns a fingerprint as a numpy array."
   ]
  },
  {
   "cell_type": "code",
   "execution_count": 3,
   "id": "c4281aa7",
   "metadata": {
    "pycharm": {
     "name": "#%%\n"
    }
   },
   "outputs": [
    {
     "data": {
      "application/vnd.jupyter.widget-view+json": {
       "model_id": "a6e6d4974474435b82fca61390b52146",
       "version_major": 2,
       "version_minor": 0
      },
      "text/plain": [
       "  0%|          | 0/100000 [00:00<?, ?it/s]"
      ]
     },
     "metadata": {},
     "output_type": "display_data"
    }
   ],
   "source": [
    "df = pd.read_csv(\"data/screen.csv\")\n",
    "df['fp'] = df.smiles.progress_apply(uru.smi2numpy_fp)"
   ]
  },
  {
   "cell_type": "markdown",
   "id": "de18c722",
   "metadata": {
    "pycharm": {
     "name": "#%% md\n"
    }
   },
   "source": [
    "Convert the data to numpy arrays"
   ]
  },
  {
   "cell_type": "code",
   "execution_count": 4,
   "id": "119b1ab5",
   "metadata": {
    "pycharm": {
     "name": "#%%\n"
    }
   },
   "outputs": [
    {
     "name": "stdout",
     "output_type": "stream",
     "text": [
      "CPU times: user 2min 45s, sys: 1.24 s, total: 2min 46s\n",
      "Wall time: 2min 48s\n"
     ]
    }
   ],
   "source": [
    "%%time\n",
    "X_pool = np.stack(df.fp.values)\n",
    "y_pool = df.y.values"
   ]
  },
  {
   "cell_type": "markdown",
   "id": "d98619a8",
   "metadata": {
    "pycharm": {
     "name": "#%% md\n"
    }
   },
   "source": [
    "### Initial Model\n",
    "Here's where we define an oracle to return the results of our calculation.  In this case, we're just looking up a value.  In practice an oracle might perform docking calcuations or something else that's more compute itensive."
   ]
  },
  {
   "cell_type": "code",
   "execution_count": 5,
   "id": "54d69d28",
   "metadata": {
    "pycharm": {
     "name": "#%%\n"
    }
   },
   "outputs": [],
   "source": [
    "class Oracle:\n",
    "    def __init__(self, df):\n",
    "        self.df = df\n",
    "\n",
    "    def get_values(self, idx_list):\n",
    "        return df.y.values[idx_list]"
   ]
  },
  {
   "cell_type": "markdown",
   "id": "149177eb",
   "metadata": {
    "pycharm": {
     "name": "#%% md\n"
    }
   },
   "source": [
    "Select a set of molecules to build and initial model.  In this case, we'll randomly select 100 molecules and use this set of 100 to build an ML model. "
   ]
  },
  {
   "cell_type": "code",
   "execution_count": 6,
   "id": "5bd48a5b",
   "metadata": {
    "pycharm": {
     "name": "#%%\n"
    }
   },
   "outputs": [],
   "source": [
    "n_initial = 100\n",
    "initial_list = np.random.choice(range(len(df)), size=n_initial, replace=False)"
   ]
  },
  {
   "cell_type": "markdown",
   "id": "5d3cfe78",
   "metadata": {
    "pycharm": {
     "name": "#%% md\n"
    }
   },
   "source": [
    "Select 100 examples to build the initial model"
   ]
  },
  {
   "cell_type": "code",
   "execution_count": 7,
   "id": "475cdb17",
   "metadata": {
    "pycharm": {
     "name": "#%%\n"
    }
   },
   "outputs": [],
   "source": [
    "X_training = X_pool[initial_list]\n",
    "y_training = y_pool[initial_list]"
   ]
  },
  {
   "cell_type": "markdown",
   "id": "f4c00dc9",
   "metadata": {
    "pycharm": {
     "name": "#%% md\n"
    }
   },
   "source": [
    "### Active Learning\n",
    "Define an ActiveLearner.  This class holds the ML model used to preform the active learning."
   ]
  },
  {
   "cell_type": "code",
   "execution_count": 8,
   "id": "e6451973",
   "metadata": {
    "pycharm": {
     "name": "#%%\n"
    }
   },
   "outputs": [],
   "source": [
    "learner = ActiveLearner(\n",
    "    estimator=RandomForestClassifier(),\n",
    "    X_training=X_training, y_training=y_training\n",
    ")"
   ]
  },
  {
   "cell_type": "markdown",
   "id": "c71b5e2d",
   "metadata": {
    "pycharm": {
     "name": "#%% md\n"
    }
   },
   "source": [
    "Instantiate an oracle.  As mentioned above, this is a simple lookup. "
   ]
  },
  {
   "cell_type": "code",
   "execution_count": 9,
   "id": "bb44c6cf",
   "metadata": {
    "pycharm": {
     "name": "#%%\n"
    }
   },
   "outputs": [],
   "source": [
    "oracle = Oracle(df)"
   ]
  },
  {
   "cell_type": "markdown",
   "id": "07155674",
   "metadata": {
    "pycharm": {
     "name": "#%% md\n"
    }
   },
   "source": [
    "Run 10 cycles of active learning. We'll print out the number of active molecules we've found at each iteration."
   ]
  },
  {
   "cell_type": "code",
   "execution_count": 10,
   "id": "270d51da",
   "metadata": {
    "pycharm": {
     "name": "#%%\n"
    }
   },
   "outputs": [
    {
     "name": "stdout",
     "output_type": "stream",
     "text": [
      "17\n",
      "65\n",
      "98\n",
      "126\n",
      "155\n",
      "186\n",
      "227\n",
      "255\n",
      "297\n",
      "337\n"
     ]
    }
   ],
   "source": [
    "# Define a list to keep track of the molecules we've selected\n",
    "pick_list = initial_list\n",
    "# How many molecules we will select at each iteration\n",
    "n_instances = 100\n",
    "for i in range(0, 10):\n",
    "    # Use the model to select the next set of molecules\n",
    "    query_idx, query_inst = learner.query(X_pool, n_instances=n_instances)\n",
    "    # Use the oracle to look up the value\n",
    "    y_new = oracle.get_values(query_idx)\n",
    "    # Use the values from the oracle to update the model\n",
    "    learner.teach(X_pool[query_idx], y_pool[query_idx])\n",
    "    # Add the picks to pick_list\n",
    "    pick_list = np.append(pick_list, query_idx)\n",
    "    # How many active molecules have we found\n",
    "    print(sum(y_pool[pick_list]))"
   ]
  },
  {
   "cell_type": "markdown",
   "id": "11749652",
   "metadata": {
    "pycharm": {
     "name": "#%% md\n"
    }
   },
   "source": [
    "### Compare With a Random Baseline\n",
    "That looks pretty good, but we should compare with a random baseline.  Let's select 1,000 random molecules and see how many actives we find."
   ]
  },
  {
   "cell_type": "code",
   "execution_count": 11,
   "id": "5b7107fb",
   "metadata": {
    "pycharm": {
     "name": "#%%\n"
    }
   },
   "outputs": [],
   "source": [
    "random_hit_count_list = []\n",
    "for i in range(0, 10):\n",
    "    random_list = np.random.choice(range(len(df)), size=1000, replace=False)\n",
    "    random_hit_count_list.append(sum(df.y.values[random_list]))"
   ]
  },
  {
   "cell_type": "markdown",
   "id": "123e60c8",
   "metadata": {
    "pycharm": {
     "name": "#%% md\n"
    }
   },
   "source": [
    "Look at the number of active molecules we found with a random search."
   ]
  },
  {
   "cell_type": "code",
   "execution_count": 12,
   "id": "0d0a669f",
   "metadata": {
    "pycharm": {
     "name": "#%%\n"
    }
   },
   "outputs": [
    {
     "data": {
      "text/plain": [
       "[66, 52, 54, 50, 59, 36, 61, 42, 48, 41]"
      ]
     },
     "execution_count": 12,
     "metadata": {},
     "output_type": "execute_result"
    }
   ],
   "source": [
    "random_hit_count_list"
   ]
  },
  {
   "cell_type": "markdown",
   "id": "70bf16e1",
   "metadata": {
    "pycharm": {
     "name": "#%% md\n"
    }
   },
   "source": [
    "Now lets run 10 active learning trials.  To do this, we'll write a function that encapsulates the active learning code we wrote above."
   ]
  },
  {
   "cell_type": "code",
   "execution_count": 13,
   "id": "4cb202f9",
   "metadata": {
    "pycharm": {
     "name": "#%%\n"
    }
   },
   "outputs": [],
   "source": [
    "def run_active_learning(X, y, oracle, num_cycles=10):\n",
    "    initial_list = np.random.choice(range(len(df)), size=n_initial, replace=False)\n",
    "    pick_list = initial_list\n",
    "    learner = ActiveLearner(\n",
    "        estimator=RandomForestClassifier(),\n",
    "        X_training=X_training, y_training=y_training\n",
    "    )\n",
    "    for i in tqdm(range(0, num_cycles)):\n",
    "        query_idx, query_inst = learner.query(X_pool, n_instances=n_instances)\n",
    "        y_new = oracle.get_values(query_idx)\n",
    "        learner.teach(X_pool[query_idx], y_pool[query_idx])\n",
    "        pick_list = np.append(pick_list, query_idx)\n",
    "    return sum(y[pick_list])"
   ]
  },
  {
   "cell_type": "code",
   "execution_count": 14,
   "id": "a5461e15",
   "metadata": {
    "pycharm": {
     "name": "#%%\n"
    }
   },
   "outputs": [
    {
     "data": {
      "application/vnd.jupyter.widget-view+json": {
       "model_id": "91260e89445f416a83c68d16f6ffe929",
       "version_major": 2,
       "version_minor": 0
      },
      "text/plain": [
       "  0%|          | 0/10 [00:00<?, ?it/s]"
      ]
     },
     "metadata": {},
     "output_type": "display_data"
    },
    {
     "data": {
      "application/vnd.jupyter.widget-view+json": {
       "model_id": "e39960179fc04fc189d3146a0d849be5",
       "version_major": 2,
       "version_minor": 0
      },
      "text/plain": [
       "  0%|          | 0/10 [00:00<?, ?it/s]"
      ]
     },
     "metadata": {},
     "output_type": "display_data"
    },
    {
     "data": {
      "application/vnd.jupyter.widget-view+json": {
       "model_id": "7f355601ffeb419f929191d8fd388e7e",
       "version_major": 2,
       "version_minor": 0
      },
      "text/plain": [
       "  0%|          | 0/10 [00:00<?, ?it/s]"
      ]
     },
     "metadata": {},
     "output_type": "display_data"
    },
    {
     "data": {
      "application/vnd.jupyter.widget-view+json": {
       "model_id": "28bcd8ea97874b269a24bc65caf0644b",
       "version_major": 2,
       "version_minor": 0
      },
      "text/plain": [
       "  0%|          | 0/10 [00:00<?, ?it/s]"
      ]
     },
     "metadata": {},
     "output_type": "display_data"
    },
    {
     "data": {
      "application/vnd.jupyter.widget-view+json": {
       "model_id": "cbf5246cf4734d0181d174b19fc38e51",
       "version_major": 2,
       "version_minor": 0
      },
      "text/plain": [
       "  0%|          | 0/10 [00:00<?, ?it/s]"
      ]
     },
     "metadata": {},
     "output_type": "display_data"
    },
    {
     "data": {
      "application/vnd.jupyter.widget-view+json": {
       "model_id": "a6146af799604076be978f11396ce5e0",
       "version_major": 2,
       "version_minor": 0
      },
      "text/plain": [
       "  0%|          | 0/10 [00:00<?, ?it/s]"
      ]
     },
     "metadata": {},
     "output_type": "display_data"
    },
    {
     "data": {
      "application/vnd.jupyter.widget-view+json": {
       "model_id": "1f50673513d948678ebea1f4602f346a",
       "version_major": 2,
       "version_minor": 0
      },
      "text/plain": [
       "  0%|          | 0/10 [00:00<?, ?it/s]"
      ]
     },
     "metadata": {},
     "output_type": "display_data"
    },
    {
     "data": {
      "application/vnd.jupyter.widget-view+json": {
       "model_id": "cb166ef452304039b2a175ecafd31685",
       "version_major": 2,
       "version_minor": 0
      },
      "text/plain": [
       "  0%|          | 0/10 [00:00<?, ?it/s]"
      ]
     },
     "metadata": {},
     "output_type": "display_data"
    },
    {
     "data": {
      "application/vnd.jupyter.widget-view+json": {
       "model_id": "e255b8c1aa0740cc90b459a22af22887",
       "version_major": 2,
       "version_minor": 0
      },
      "text/plain": [
       "  0%|          | 0/10 [00:00<?, ?it/s]"
      ]
     },
     "metadata": {},
     "output_type": "display_data"
    },
    {
     "data": {
      "application/vnd.jupyter.widget-view+json": {
       "model_id": "392eceaa9f754e7f8dc003ddf9d2b093",
       "version_major": 2,
       "version_minor": 0
      },
      "text/plain": [
       "  0%|          | 0/10 [00:00<?, ?it/s]"
      ]
     },
     "metadata": {},
     "output_type": "display_data"
    }
   ],
   "source": [
    "active_learning_hit_count_list = []\n",
    "for i in range(0, 10):\n",
    "    num_hits = run_active_learning(X_pool, y_pool, oracle)\n",
    "    active_learning_hit_count_list.append(num_hits)"
   ]
  },
  {
   "cell_type": "markdown",
   "id": "9e5291b0",
   "metadata": {
    "pycharm": {
     "name": "#%% md\n"
    }
   },
   "source": [
    "Look at the number of hits we found with active learning.  Note that it's a lot more than what we found with a random search."
   ]
  },
  {
   "cell_type": "code",
   "execution_count": 15,
   "id": "6dfff580",
   "metadata": {
    "pycharm": {
     "name": "#%%\n"
    }
   },
   "outputs": [
    {
     "data": {
      "text/plain": [
       "[333, 356, 348, 334, 314, 342, 336, 354, 365, 347]"
      ]
     },
     "execution_count": 15,
     "metadata": {},
     "output_type": "execute_result"
    }
   ],
   "source": [
    "active_learning_hit_count_list"
   ]
  },
  {
   "cell_type": "markdown",
   "id": "7740a196",
   "metadata": {
    "pycharm": {
     "name": "#%% md\n"
    }
   },
   "source": [
    "Let's make a boxplot to compare the random and active learning searches.   This will be a lot easier if we put the data into a dataframe."
   ]
  },
  {
   "cell_type": "code",
   "execution_count": 16,
   "id": "25f6cc01",
   "metadata": {
    "pycharm": {
     "name": "#%%\n"
    }
   },
   "outputs": [],
   "source": [
    "random_df = pd.DataFrame(random_hit_count_list)\n",
    "random_df.columns = [\"count\"]\n",
    "random_df['category'] = \"random\"\n",
    "active_df = pd.DataFrame(active_learning_hit_count_list)\n",
    "active_df.columns = [\"count\"]\n",
    "active_df['category'] = \"active\"\n",
    "plot_df = pd.concat([random_df, active_df])"
   ]
  },
  {
   "cell_type": "markdown",
   "id": "2f33f741",
   "metadata": {
    "pycharm": {
     "name": "#%% md\n"
    }
   },
   "source": [
    "Now make the boxplot"
   ]
  },
  {
   "cell_type": "code",
   "execution_count": 17,
   "id": "2fa2a9ac",
   "metadata": {
    "pycharm": {
     "name": "#%%\n"
    }
   },
   "outputs": [
    {
     "data": {
      "image/png": "[encoded data removed]",
      "text/plain": [
       "<Figure size 640x480 with 1 Axes>"
      ]
     },
     "metadata": {},
     "output_type": "display_data"
    }
   ],
   "source": [
    "sns.boxplot(data=plot_df, x=\"category\", y=\"count\");"
   ]
  },
  {
   "cell_type": "markdown",
   "id": "af77878b",
   "metadata": {
    "pycharm": {
     "name": "#%% md\n"
    }
   },
   "source": [
    "Calculate the enrichment ratio for active learning vs random"
   ]
  },
  {
   "cell_type": "code",
   "execution_count": 18,
   "id": "e7bfd7c8",
   "metadata": {
    "pycharm": {
     "name": "#%%\n"
    }
   },
   "outputs": [
    {
     "data": {
      "text/plain": [
       "6.736738703339882"
      ]
     },
     "execution_count": 18,
     "metadata": {},
     "output_type": "execute_result"
    }
   ],
   "source": [
    "np.mean(active_learning_hit_count_list) / np.mean(random_hit_count_list)"
   ]
  },
  {
   "cell_type": "code",
   "execution_count": null,
   "id": "8f76c501",
   "metadata": {
    "pycharm": {
     "name": "#%%\n"
    }
   },
   "outputs": [],
   "source": []
  }
 ],
 "metadata": {
  "kernelspec": {
   "display_name": "Python 3 (ipykernel)",
   "language": "python",
   "name": "python3"
  },
  "language_info": {
   "codemirror_mode": {
    "name": "ipython",
    "version": 3
   },
   "file_extension": ".py",
   "mimetype": "text/x-python",
   "name": "python",
   "nbconvert_exporter": "python",
   "pygments_lexer": "ipython3",
   "version": "3.11.3"
  }
 },
 "nbformat": 4,
 "nbformat_minor": 5
}
