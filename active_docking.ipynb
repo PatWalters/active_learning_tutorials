{
 "cells": [
  {
   "cell_type": "code",
   "execution_count": 1,
   "id": "bdc5358b-51a1-4b8c-bc5d-f484eb8eab6b",
   "metadata": {
    "pycharm": {
     "name": "#%%\n"
    }
   },
   "outputs": [],
   "source": [
    "from operator import itemgetter\n",
    "\n",
    "import numpy as np\n",
    "import pandas as pd\n",
    "import seaborn as sns\n",
    "import sklearn.gaussian_process as gp\n",
    "import useful_rdkit_utils as uru\n",
    "from modAL.acquisition import BaseLearner\n",
    "from modAL.models import BayesianOptimizer\n",
    "from modAL.utils.data import modALinput\n",
    "from rdkit import Chem\n",
    "from sklearn.gaussian_process import GaussianProcessRegressor\n",
    "from tqdm.auto import tqdm\n",
    "from evaluators import FredEvaluator"
   ]
  },
  {
   "cell_type": "markdown",
   "id": "94f7e918",
   "metadata": {
    "pycharm": {
     "name": "#%% md\n"
    }
   },
   "source": [
    "As with the classification example, we'll define an oracle that looks up values from a dataframe.  "
   ]
  },
  {
   "cell_type": "code",
   "execution_count": 2,
   "id": "ed43e30d",
   "metadata": {
    "pycharm": {
     "name": "#%%\n"
    }
   },
   "outputs": [],
   "source": [
    "class Oracle:\n",
    "    def __init__(self, df, col_name, invert=True):\n",
    "        self.fred_eval = FredEvaluator({\"design_unit_file\": \"data/2zdt_receptor.oedu\"})\n",
    "        self.df = df\n",
    "\n",
    "    def sample(self, num):\n",
    "        sample_df = self.df.sample(num)\n",
    "        scores = [self.fred_eval.evaluate(x)*-1.0 for x in sample_df.mol]\n",
    "        return sample_df.fp.values, scores, sample_df.index\n",
    "\n",
    "    def get_values(self, idx_list):\n",
    "        sample_df = df.iloc[idx_list]\n",
    "        scores = [self.fred_eval.evaluate(x)*-1.0 for x in sample_df.mol]\n",
    "        return scores"
   ]
  },
  {
   "cell_type": "markdown",
   "id": "aa946e32",
   "metadata": {
    "pycharm": {
     "name": "#%% md\n"
    }
   },
   "source": [
    "We're going to use Gaussian Process Regression (GPR) to build our regression models.  To use GPR, we need to define a kernel function.  In this case, we'll calculate a kernel based on the Tanimoto coefficient."
   ]
  },
  {
   "cell_type": "code",
   "execution_count": 3,
   "id": "669dc440-93c9-4d29-8256-4249efb8c213",
   "metadata": {
    "pycharm": {
     "name": "#%%\n"
    }
   },
   "outputs": [],
   "source": [
    "def calculate_similarity(a, b):\n",
    "    # Tanimoto similarity a vs. b\n",
    "    aa = np.sum(a, axis=1, keepdims=True)\n",
    "    bb = np.sum(b, axis=1, keepdims=True)\n",
    "    ab = np.matmul(a, b.T)\n",
    "    return np.true_divide(ab, aa + bb.T - ab)\n",
    "\n",
    "\n",
    "class TanimotoKernel(gp.kernels.NormalizedKernelMixin,\n",
    "                     gp.kernels.StationaryKernelMixin, gp.kernels.Kernel):\n",
    "\n",
    "    def __init__(self):\n",
    "        pass\n",
    "\n",
    "    def __call__(self, X, Y=None, eval_gradient=False):\n",
    "        assert not eval_gradient\n",
    "        if Y is None:\n",
    "            Y = X\n",
    "        return calculate_similarity(X, Y)"
   ]
  },
  {
   "cell_type": "markdown",
   "id": "9770a3d3",
   "metadata": {
    "pycharm": {
     "name": "#%% md\n"
    }
   },
   "source": [
    "Enable progress bars for the Pandas apply function."
   ]
  },
  {
   "cell_type": "code",
   "execution_count": 4,
   "id": "a1678470-9858-43e8-8132-d9518e1dcd9d",
   "metadata": {
    "pycharm": {
     "name": "#%%\n"
    }
   },
   "outputs": [],
   "source": [
    "tqdm.pandas()"
   ]
  },
  {
   "cell_type": "markdown",
   "id": "60dd31a6",
   "metadata": {
    "pycharm": {
     "name": "#%% md\n"
    }
   },
   "source": [
    "Read the input data.  This data comes from [\"Optimizing active learning for free energy calculations\"](https://www.sciencedirect.com/science/article/pii/S2667318522000204)"
   ]
  },
  {
   "cell_type": "code",
   "execution_count": 5,
   "id": "ce34db47-4911-41a0-9c04-5c95f56be258",
   "metadata": {
    "pycharm": {
     "name": "#%%\n"
    }
   },
   "outputs": [],
   "source": [
    "df = pd.read_csv(\n",
    "    \"https://raw.githubusercontent.com/google-research/google-research/master/al_for_fep/tyk2_dataset/tyk2_fep.csv\")"
   ]
  },
  {
   "cell_type": "markdown",
   "id": "6dbd020e",
   "metadata": {
    "pycharm": {
     "name": "#%% md\n"
    }
   },
   "source": [
    "Rename the SMILES column, this is strictly a convenience issue."
   ]
  },
  {
   "cell_type": "code",
   "execution_count": 6,
   "id": "efa8c2c6",
   "metadata": {
    "pycharm": {
     "name": "#%%\n"
    }
   },
   "outputs": [],
   "source": [
    "df.rename(columns={\"Smiles\": \"SMILES\"}, inplace=True)"
   ]
  },
  {
   "cell_type": "markdown",
   "id": "ec15872d",
   "metadata": {
    "pycharm": {
     "name": "#%% md\n"
    }
   },
   "source": [
    "Take a quick look at the data."
   ]
  },
  {
   "cell_type": "code",
   "execution_count": 7,
   "id": "e3c2c66d",
   "metadata": {
    "pycharm": {
     "name": "#%%\n"
    }
   },
   "outputs": [
    {
     "data": {
      "text/html": [
       "<div>\n",
       "<style scoped>\n",
       "    .dataframe tbody tr th:only-of-type {\n",
       "        vertical-align: middle;\n",
       "    }\n",
       "\n",
       "    .dataframe tbody tr th {\n",
       "        vertical-align: top;\n",
       "    }\n",
       "\n",
       "    .dataframe thead th {\n",
       "        text-align: right;\n",
       "    }\n",
       "</style>\n",
       "<table border=\"1\" class=\"dataframe\">\n",
       "  <thead>\n",
       "    <tr style=\"text-align: right;\">\n",
       "      <th></th>\n",
       "      <th>LigandId</th>\n",
       "      <th>DockingScore</th>\n",
       "      <th>SMILES</th>\n",
       "      <th>dG</th>\n",
       "      <th>dGError</th>\n",
       "    </tr>\n",
       "  </thead>\n",
       "  <tbody>\n",
       "    <tr>\n",
       "      <th>0</th>\n",
       "      <td>0</td>\n",
       "      <td>-8.654</td>\n",
       "      <td>O=C(Nc1ccnc(NC(=O)C2CCC2)c1)c1c(Cl)cccc1Cl</td>\n",
       "      <td>-2.995</td>\n",
       "      <td>0.455</td>\n",
       "    </tr>\n",
       "    <tr>\n",
       "      <th>1</th>\n",
       "      <td>1</td>\n",
       "      <td>-8.126</td>\n",
       "      <td>O=C(Nc1ccnc(NC(=O)C2CCCC2)c1)c1ccccc1Cl</td>\n",
       "      <td>8.731</td>\n",
       "      <td>0.462</td>\n",
       "    </tr>\n",
       "    <tr>\n",
       "      <th>2</th>\n",
       "      <td>2</td>\n",
       "      <td>-8.655</td>\n",
       "      <td>O=C(Nc1ccnc(NC(=O)C2CCC2)c1)c1ccccc1Cl</td>\n",
       "      <td>3.316</td>\n",
       "      <td>0.448</td>\n",
       "    </tr>\n",
       "    <tr>\n",
       "      <th>3</th>\n",
       "      <td>3</td>\n",
       "      <td>-8.429</td>\n",
       "      <td>O=C(Nc1ccnc(NC(=O)C2CC2)c1)c1c(Cl)cc(Cl)cc1Cl</td>\n",
       "      <td>-0.070</td>\n",
       "      <td>0.462</td>\n",
       "    </tr>\n",
       "    <tr>\n",
       "      <th>4</th>\n",
       "      <td>4</td>\n",
       "      <td>-8.458</td>\n",
       "      <td>O=C(Nc1ccnc(NC(=O)C2CC2)c1)c1cc(Cl)ccc1Cl</td>\n",
       "      <td>3.431</td>\n",
       "      <td>0.449</td>\n",
       "    </tr>\n",
       "    <tr>\n",
       "      <th>...</th>\n",
       "      <td>...</td>\n",
       "      <td>...</td>\n",
       "      <td>...</td>\n",
       "      <td>...</td>\n",
       "      <td>...</td>\n",
       "    </tr>\n",
       "    <tr>\n",
       "      <th>9992</th>\n",
       "      <td>9994</td>\n",
       "      <td>-8.900</td>\n",
       "      <td>COc1cc(Cl)c(C(=O)Nc2cc(Nc3cccc(C(N)=O)n3)ncc2F...</td>\n",
       "      <td>3.288</td>\n",
       "      <td>0.512</td>\n",
       "    </tr>\n",
       "    <tr>\n",
       "      <th>9993</th>\n",
       "      <td>9995</td>\n",
       "      <td>-8.371</td>\n",
       "      <td>COc1ccnc(Nc2cc(NC(=O)c3cccc(Cl)c3N)c(F)cn2)c1</td>\n",
       "      <td>15.143</td>\n",
       "      <td>0.478</td>\n",
       "    </tr>\n",
       "    <tr>\n",
       "      <th>9994</th>\n",
       "      <td>9996</td>\n",
       "      <td>-8.897</td>\n",
       "      <td>O=C(COCc1ccccc1)Nc1cc(NC(=O)c2cccc(Cl)c2)c(F)cn1</td>\n",
       "      <td>5.480</td>\n",
       "      <td>0.500</td>\n",
       "    </tr>\n",
       "    <tr>\n",
       "      <th>9995</th>\n",
       "      <td>9997</td>\n",
       "      <td>-8.218</td>\n",
       "      <td>COc1c(F)cccc1C(=O)Nc1ccnc(NC(=O)NC(C)C)c1</td>\n",
       "      <td>10.696</td>\n",
       "      <td>0.467</td>\n",
       "    </tr>\n",
       "    <tr>\n",
       "      <th>9996</th>\n",
       "      <td>9998</td>\n",
       "      <td>-9.235</td>\n",
       "      <td>O=C(Nc1cc(Nc2cncc(CO)n2)ncc1F)c1cccc(Cl)c1F</td>\n",
       "      <td>2.736</td>\n",
       "      <td>0.474</td>\n",
       "    </tr>\n",
       "  </tbody>\n",
       "</table>\n",
       "<p>9997 rows × 5 columns</p>\n",
       "</div>"
      ],
      "text/plain": [
       "      LigandId  DockingScore  \\\n",
       "0            0        -8.654   \n",
       "1            1        -8.126   \n",
       "2            2        -8.655   \n",
       "3            3        -8.429   \n",
       "4            4        -8.458   \n",
       "...        ...           ...   \n",
       "9992      9994        -8.900   \n",
       "9993      9995        -8.371   \n",
       "9994      9996        -8.897   \n",
       "9995      9997        -8.218   \n",
       "9996      9998        -9.235   \n",
       "\n",
       "                                                 SMILES      dG  dGError  \n",
       "0            O=C(Nc1ccnc(NC(=O)C2CCC2)c1)c1c(Cl)cccc1Cl  -2.995    0.455  \n",
       "1               O=C(Nc1ccnc(NC(=O)C2CCCC2)c1)c1ccccc1Cl   8.731    0.462  \n",
       "2                O=C(Nc1ccnc(NC(=O)C2CCC2)c1)c1ccccc1Cl   3.316    0.448  \n",
       "3         O=C(Nc1ccnc(NC(=O)C2CC2)c1)c1c(Cl)cc(Cl)cc1Cl  -0.070    0.462  \n",
       "4             O=C(Nc1ccnc(NC(=O)C2CC2)c1)c1cc(Cl)ccc1Cl   3.431    0.449  \n",
       "...                                                 ...     ...      ...  \n",
       "9992  COc1cc(Cl)c(C(=O)Nc2cc(Nc3cccc(C(N)=O)n3)ncc2F...   3.288    0.512  \n",
       "9993      COc1ccnc(Nc2cc(NC(=O)c3cccc(Cl)c3N)c(F)cn2)c1  15.143    0.478  \n",
       "9994   O=C(COCc1ccccc1)Nc1cc(NC(=O)c2cccc(Cl)c2)c(F)cn1   5.480    0.500  \n",
       "9995          COc1c(F)cccc1C(=O)Nc1ccnc(NC(=O)NC(C)C)c1  10.696    0.467  \n",
       "9996        O=C(Nc1cc(Nc2cncc(CO)n2)ncc1F)c1cccc(Cl)c1F   2.736    0.474  \n",
       "\n",
       "[9997 rows x 5 columns]"
      ]
     },
     "execution_count": 7,
     "metadata": {},
     "output_type": "execute_result"
    }
   ],
   "source": [
    "df"
   ]
  },
  {
   "cell_type": "markdown",
   "id": "a937df89",
   "metadata": {
    "pycharm": {
     "name": "#%% md\n"
    }
   },
   "source": [
    "Add an RDKit molecule column to the dataframe."
   ]
  },
  {
   "cell_type": "code",
   "execution_count": 8,
   "id": "fe0ab8ee-8fef-48ed-b334-d9cd4ee66aff",
   "metadata": {
    "pycharm": {
     "name": "#%%\n"
    }
   },
   "outputs": [
    {
     "data": {
      "application/vnd.jupyter.widget-view+json": {
       "model_id": "dab96ece70734066860a8088ab50b12e",
       "version_major": 2,
       "version_minor": 0
      },
      "text/plain": [
       "  0%|          | 0/9997 [00:00<?, ?it/s]"
      ]
     },
     "metadata": {},
     "output_type": "display_data"
    }
   ],
   "source": [
    "df['mol'] = df.SMILES.progress_apply(Chem.MolFromSmiles)"
   ]
  },
  {
   "cell_type": "markdown",
   "id": "f3ed8c98",
   "metadata": {
    "pycharm": {
     "name": "#%% md\n"
    }
   },
   "source": [
    "Add a fingerprint column to the dataframe."
   ]
  },
  {
   "cell_type": "code",
   "execution_count": 9,
   "id": "12417e8f-f9bb-4f5d-bf89-593247971303",
   "metadata": {
    "pycharm": {
     "name": "#%%\n"
    }
   },
   "outputs": [
    {
     "data": {
      "application/vnd.jupyter.widget-view+json": {
       "model_id": "23852fe30f194d548f30e8dd5bcbd1f4",
       "version_major": 2,
       "version_minor": 0
      },
      "text/plain": [
       "  0%|          | 0/9997 [00:00<?, ?it/s]"
      ]
     },
     "metadata": {},
     "output_type": "display_data"
    }
   ],
   "source": [
    "df['fp'] = df.mol.progress_apply(uru.mol2morgan_fp)"
   ]
  },
  {
   "cell_type": "markdown",
   "id": "55088638",
   "metadata": {
    "pycharm": {
     "name": "#%% md\n"
    }
   },
   "source": [
    "Create a pool for fingerprints for the active learning algorithm to draw from."
   ]
  },
  {
   "cell_type": "code",
   "execution_count": 10,
   "id": "094e011b-da93-49ab-9798-f0e733069774",
   "metadata": {
    "pycharm": {
     "name": "#%%\n"
    }
   },
   "outputs": [],
   "source": [
    "X_pool = np.stack(df.fp.values)"
   ]
  },
  {
   "cell_type": "markdown",
   "id": "59a74076",
   "metadata": {
    "pycharm": {
     "name": "#%% md\n"
    }
   },
   "source": [
    "For the greedy search, we want to select the best scoring molecules, but we want to avoid selecting the same molecules multiple times. This function accepts a list of predictions and does the following.\n",
    "- Sort by score\n",
    "- Remove the molecules that were previously selected\n",
    "- Return the top **n_to_choose**"
   ]
  },
  {
   "cell_type": "code",
   "execution_count": 11,
   "id": "cc13556d",
   "metadata": {
    "pycharm": {
     "name": "#%%\n"
    }
   },
   "outputs": [],
   "source": [
    "def find_best_idx(predicted, used, num_to_choose):\n",
    "    tmp_list = list(enumerate(predicted))\n",
    "    tmp_list.sort(key=itemgetter(1), reverse=True)\n",
    "    tmp_list = [x for x in tmp_list if x[0] not in used]\n",
    "    tmp_list = [x[0] for x in tmp_list]\n",
    "    return tmp_list[:num_to_choose]"
   ]
  },
  {
   "cell_type": "markdown",
   "id": "c95e7d79",
   "metadata": {
    "pycharm": {
     "name": "#%% md\n"
    }
   },
   "source": [
    "The function performs the greedy search and selects the top **n** molecules that were not previously selected."
   ]
  },
  {
   "cell_type": "code",
   "execution_count": 12,
   "id": "241046d8",
   "metadata": {
    "pycharm": {
     "name": "#%%\n"
    }
   },
   "outputs": [],
   "source": [
    "def greedy(optimizer: BaseLearner, X: modALinput, n_instances=1, used=[]):\n",
    "    res = optimizer.predict(X)\n",
    "    best_idx = find_best_idx(res, used, n_instances)\n",
    "    return best_idx, X[best_idx]"
   ]
  },
  {
   "cell_type": "markdown",
   "id": "5c0c8114",
   "metadata": {
    "pycharm": {
     "name": "#%% md\n"
    }
   },
   "source": [
    "Create an oracle that will return values."
   ]
  },
  {
   "cell_type": "code",
   "execution_count": 13,
   "id": "aefb3804",
   "metadata": {
    "pycharm": {
     "name": "#%%\n"
    }
   },
   "outputs": [],
   "source": [
    "value_column = \"dG\"\n",
    "oracle = Oracle(df, value_column)"
   ]
  },
  {
   "cell_type": "markdown",
   "id": "3624237f",
   "metadata": {
    "pycharm": {
     "name": "#%% md\n"
    }
   },
   "source": [
    "This is the main active learning loop."
   ]
  },
  {
   "cell_type": "code",
   "execution_count": 14,
   "id": "03d3defe-55e6-4e34-bce7-a429b3ca9acb",
   "metadata": {
    "pycharm": {
     "name": "#%%\n"
    }
   },
   "outputs": [
    {
     "data": {
      "application/vnd.jupyter.widget-view+json": {
       "model_id": "9a61cc76430948398b687be9d6f49cf1",
       "version_major": 2,
       "version_minor": 0
      },
      "text/plain": [
       "  0%|          | 0/10 [00:00<?, ?it/s]"
      ]
     },
     "metadata": {},
     "output_type": "display_data"
    }
   ],
   "source": [
    "n_instances = 100\n",
    "n_cycles = 10\n",
    "\n",
    "query_strategy = greedy\n",
    "X_initial, y_initial, sample_idx = oracle.sample(n_instances)\n",
    "optimizer = BayesianOptimizer(estimator=GaussianProcessRegressor(kernel=TanimotoKernel()),\n",
    "                              X_training=np.stack(X_initial), y_training=y_initial,\n",
    "                              query_strategy=query_strategy)\n",
    "\n",
    "val_list = []\n",
    "used = list(sample_idx)\n",
    "for i in tqdm(range(0, n_cycles)):\n",
    "    query_idx, query_desc = optimizer.query(X_pool, n_instances=n_instances, used=used)\n",
    "    vals = oracle.get_values(query_idx)\n",
    "    val_list.append(vals)\n",
    "    optimizer.teach(query_desc, vals)\n",
    "    used += query_idx"
   ]
  },
  {
   "cell_type": "markdown",
   "id": "ffabace2",
   "metadata": {
    "pycharm": {
     "name": "#%% md\n"
    }
   },
   "source": [
    "Let's look at how the scores were distributed across the active learning cycles. First we need to put the data in a dataframe."
   ]
  },
  {
   "cell_type": "code",
   "execution_count": 15,
   "id": "1904073c",
   "metadata": {
    "pycharm": {
     "name": "#%%\n"
    }
   },
   "outputs": [],
   "source": [
    "res_list = []\n",
    "for idx, v in enumerate(val_list):\n",
    "    res_list += [(idx, x) for x in v]\n",
    "res_df = pd.DataFrame(res_list, columns=[\"idx\", value_column])"
   ]
  },
  {
   "cell_type": "markdown",
   "id": "b7fa2c42",
   "metadata": {
    "pycharm": {
     "name": "#%% md\n"
    }
   },
   "source": [
    "Plot the data as boxplot."
   ]
  },
  {
   "cell_type": "code",
   "execution_count": 16,
   "id": "d4334865",
   "metadata": {
    "pycharm": {
     "name": "#%%\n"
    }
   },
   "outputs": [
    {
     "data": {
      "image/png": "[encoded data removed]",
      "text/plain": [
       "<Figure size 640x480 with 1 Axes>"
      ]
     },
     "metadata": {},
     "output_type": "display_data"
    }
   ],
   "source": [
    "ax = sns.boxplot(x=\"idx\", y=value_column, data=res_df.query(\"dG > 0\"))\n",
    "ax.set_xlabel(\"Active Learning Cycle\");"
   ]
  },
  {
   "cell_type": "code",
   "execution_count": 17,
   "id": "5d1e37c2",
   "metadata": {
    "pycharm": {
     "name": "#%%\n"
    },
    "scrolled": true
   },
   "outputs": [],
   "source": [
    "rand_list = np.random.choice(len(df),1000, replace=False)"
   ]
  },
  {
   "cell_type": "code",
   "execution_count": 18,
   "id": "16768245",
   "metadata": {
    "pycharm": {
     "name": "#%%\n"
    }
   },
   "outputs": [],
   "source": [
    "rand_scores = oracle.get_values(rand_list)"
   ]
  },
  {
   "cell_type": "code",
   "execution_count": 19,
   "id": "d2d579b8",
   "metadata": {
    "pycharm": {
     "name": "#%%\n"
    }
   },
   "outputs": [],
   "source": [
    "cmp_df = pd.DataFrame({\"AL\": sorted(res_df.dG.values,reverse=True)[:100], \n",
    "                       \"RND\": sorted(rand_scores,reverse=True)[:100]})\n",
    "melt_df = cmp_df.melt()\n",
    "melt_df.columns = [\"method\",\"score\"]"
   ]
  },
  {
   "cell_type": "code",
   "execution_count": 20,
   "id": "9b102e2a",
   "metadata": {
    "pycharm": {
     "name": "#%%\n"
    }
   },
   "outputs": [
    {
     "data": {
      "text/plain": [
       "<Axes: xlabel='method', ylabel='score'>"
      ]
     },
     "execution_count": 20,
     "metadata": {},
     "output_type": "execute_result"
    },
    {
     "data": {
      "image/png": "[encoded data removed]",
      "text/plain": [
       "<Figure size 640x480 with 1 Axes>"
      ]
     },
     "metadata": {},
     "output_type": "display_data"
    }
   ],
   "source": [
    "sns.boxplot(x=\"method\",y=\"score\",data=melt_df.query(\"score > 0\"))"
   ]
  },
  {
   "cell_type": "code",
   "execution_count": 56,
   "id": "c118197c",
   "metadata": {
    "pycharm": {
     "name": "#%%\n"
    }
   },
   "outputs": [
    {
     "data": {
      "text/plain": [
       "method\n",
       "AL     100\n",
       "RND    100\n",
       "Name: count, dtype: int64"
      ]
     },
     "execution_count": 56,
     "metadata": {},
     "output_type": "execute_result"
    }
   ],
   "source": [
    "melt_df.method.value_counts()"
   ]
  },
  {
   "cell_type": "code",
   "execution_count": null,
   "id": "d4aa5f5f",
   "metadata": {
    "pycharm": {
     "name": "#%%\n"
    }
   },
   "outputs": [],
   "source": []
  }
 ],
 "metadata": {
  "kernelspec": {
   "display_name": "Python 3 (ipykernel)",
   "language": "python",
   "name": "python3"
  },
  "language_info": {
   "codemirror_mode": {
    "name": "ipython",
    "version": 3
   },
   "file_extension": ".py",
   "mimetype": "text/x-python",
   "name": "python",
   "nbconvert_exporter": "python",
   "pygments_lexer": "ipython3",
   "version": "3.11.3"
  }
 },
 "nbformat": 4,
 "nbformat_minor": 5
}
