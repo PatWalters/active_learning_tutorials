{
 "cells": [
  {
   "cell_type": "markdown",
   "id": "5769c09f",
   "metadata": {
    "pycharm": {
     "name": "#%% md\n"
    }
   },
   "source": [
    "This tutorial shows how to use active learning to rapidly process a large dataset using a more computationally expensive method like docking, FEP, or 3D similarity calculations.  The code here is a scaled-down version of the code in our paper.  The code is fully functional.  I just removed a few of the options and benchmarks from our original work.  "
   ]
  },
  {
   "cell_type": "code",
   "execution_count": 1,
   "id": "bdc5358b-51a1-4b8c-bc5d-f484eb8eab6b",
   "metadata": {
    "pycharm": {
     "name": "#%%\n"
    }
   },
   "outputs": [],
   "source": [
    "from operator import itemgetter\n",
    "\n",
    "import numpy as np\n",
    "import pandas as pd\n",
    "import seaborn as sns\n",
    "import sklearn.gaussian_process as gp\n",
    "import useful_rdkit_utils as uru\n",
    "from modAL.acquisition import BaseLearner\n",
    "from modAL.models import BayesianOptimizer\n",
    "from modAL.utils.data import modALinput\n",
    "from modAL.acquisition import optimizer_PI\n",
    "from rdkit import Chem\n",
    "from sklearn.gaussian_process import GaussianProcessRegressor\n",
    "from tqdm.auto import tqdm\n",
    "from modAL.utils.selection import multi_argmax"
   ]
  },
  {
   "cell_type": "markdown",
   "id": "94f7e918",
   "metadata": {
    "pycharm": {
     "name": "#%% md\n"
    }
   },
   "source": [
    "As with the classification example, we'll define an oracle that looks up values from a dataframe.  In practice, the oracle would perform some more expensive calculation like docking, FEP, or shape overlap. In practice, the oracle would perfrom some compute expensive function like docking or FEP. "
   ]
  },
  {
   "cell_type": "code",
   "execution_count": 2,
   "id": "ed43e30d",
   "metadata": {
    "pycharm": {
     "name": "#%%\n"
    }
   },
   "outputs": [],
   "source": [
    "class Oracle:\n",
    "    def __init__(self, df, col_name, invert=True):\n",
    "        self.df = df\n",
    "        self.col_name = col_name\n",
    "        if invert:\n",
    "            self.df[col_name] = self.df[col_name]\n",
    "\n",
    "    def sample(self, num):\n",
    "        sample_df = self.df.sample(num)\n",
    "        return sample_df.fp.values, sample_df[self.col_name].values, sample_df.index\n",
    "\n",
    "    def get_values(self, idx_list):\n",
    "        return df[self.col_name].values[idx_list]"
   ]
  },
  {
   "cell_type": "markdown",
   "id": "9909b693",
   "metadata": {
    "pycharm": {
     "name": "#%% md\n"
    }
   },
   "source": [
    "When we do active learning, we have to define a machine learning models that acts as a surrogate for the more expensive calculations.  In this case, we're going to use Gaussian Process Regression (GPR) to build our regression models.  To use GPR, we need to define a kernel function. Here we calculate a kernel based on the Tanimoto similarities of the molecules."
   ]
  },
  {
   "cell_type": "code",
   "execution_count": 3,
   "id": "669dc440-93c9-4d29-8256-4249efb8c213",
   "metadata": {
    "pycharm": {
     "name": "#%%\n"
    }
   },
   "outputs": [],
   "source": [
    "def calculate_similarity(a, b):\n",
    "    # Tanimoto similarity a vs. b\n",
    "    aa = np.sum(a, axis=1, keepdims=True)\n",
    "    bb = np.sum(b, axis=1, keepdims=True)\n",
    "    ab = np.matmul(a, b.T)\n",
    "    return np.true_divide(ab, aa + bb.T - ab)\n",
    "\n",
    "\n",
    "class TanimotoKernel(gp.kernels.NormalizedKernelMixin,\n",
    "                     gp.kernels.StationaryKernelMixin, gp.kernels.Kernel):\n",
    "\n",
    "    def __init__(self):\n",
    "        pass\n",
    "\n",
    "    def __call__(self, X, Y=None, eval_gradient=False):\n",
    "        assert not eval_gradient\n",
    "        if Y is None:\n",
    "            Y = X\n",
    "        return calculate_similarity(X, Y)"
   ]
  },
  {
   "cell_type": "markdown",
   "id": "e99227cf",
   "metadata": {
    "pycharm": {
     "name": "#%% md\n"
    }
   },
   "source": [
    "Enable progress bars for the Pandas apply function."
   ]
  },
  {
   "cell_type": "code",
   "execution_count": 4,
   "id": "a1678470-9858-43e8-8132-d9518e1dcd9d",
   "metadata": {
    "pycharm": {
     "name": "#%%\n"
    }
   },
   "outputs": [],
   "source": [
    "tqdm.pandas()"
   ]
  },
  {
   "cell_type": "markdown",
   "id": "bae9d650",
   "metadata": {
    "pycharm": {
     "name": "#%% md\n"
    }
   },
   "source": [
    "Read the input data.  This data comes from [\"Optimizing active learning for free energy calculations\"](https://www.sciencedirect.com/science/article/pii/S2667318522000204)"
   ]
  },
  {
   "cell_type": "code",
   "execution_count": 8,
   "id": "a5ef6db3",
   "metadata": {
    "pycharm": {
     "name": "#%%\n"
    }
   },
   "outputs": [
    {
     "name": "stdout",
     "output_type": "stream",
     "text": [
      "Mpro_final.csv\r\n"
     ]
    }
   ],
   "source": [
    "!ls *.csv"
   ]
  },
  {
   "cell_type": "code",
   "execution_count": 9,
   "id": "ce34db47-4911-41a0-9c04-5c95f56be258",
   "metadata": {
    "pycharm": {
     "name": "#%%\n"
    }
   },
   "outputs": [],
   "source": [
    "df = pd.read_csv(\"Mpro_final.csv\")"
   ]
  },
  {
   "cell_type": "markdown",
   "id": "6a4b2af7",
   "metadata": {
    "pycharm": {
     "name": "#%% md\n"
    }
   },
   "source": [
    "Take a quick look at the data."
   ]
  },
  {
   "cell_type": "code",
   "execution_count": 10,
   "id": "e3c2c66d",
   "metadata": {
    "pycharm": {
     "name": "#%%\n"
    }
   },
   "outputs": [
    {
     "data": {
      "text/html": [
       "<div>\n",
       "<style scoped>\n",
       "    .dataframe tbody tr th:only-of-type {\n",
       "        vertical-align: middle;\n",
       "    }\n",
       "\n",
       "    .dataframe tbody tr th {\n",
       "        vertical-align: top;\n",
       "    }\n",
       "\n",
       "    .dataframe thead th {\n",
       "        text-align: right;\n",
       "    }\n",
       "</style>\n",
       "<table border=\"1\" class=\"dataframe\">\n",
       "  <thead>\n",
       "    <tr style=\"text-align: right;\">\n",
       "      <th></th>\n",
       "      <th>SMILES</th>\n",
       "      <th>affinity</th>\n",
       "      <th>target</th>\n",
       "      <th>top_2p</th>\n",
       "      <th>top_5p</th>\n",
       "    </tr>\n",
       "  </thead>\n",
       "  <tbody>\n",
       "    <tr>\n",
       "      <th>0</th>\n",
       "      <td>B1(OC(C(O1)(C)C)(C)C)c2cnc(nc2)C#N</td>\n",
       "      <td>7.004365</td>\n",
       "      <td>Mpro</td>\n",
       "      <td>False</td>\n",
       "      <td>False</td>\n",
       "    </tr>\n",
       "    <tr>\n",
       "      <th>1</th>\n",
       "      <td>C([C@@H]1[C@H]([C@@H]([C@H]([C@H](O1)S[Au])O)O...</td>\n",
       "      <td>7.004365</td>\n",
       "      <td>Mpro</td>\n",
       "      <td>False</td>\n",
       "      <td>False</td>\n",
       "    </tr>\n",
       "    <tr>\n",
       "      <th>2</th>\n",
       "      <td>C1CN(CCN1C(=O)CCl)S(=O)(=O)C2=CCS=C2</td>\n",
       "      <td>9.314783</td>\n",
       "      <td>Mpro</td>\n",
       "      <td>False</td>\n",
       "      <td>False</td>\n",
       "    </tr>\n",
       "    <tr>\n",
       "      <th>3</th>\n",
       "      <td>C=CC(=O)N(c1ccc(cc1)C(F)(F)F)C(c2cc(cnc2)C#N)C...</td>\n",
       "      <td>8.521097</td>\n",
       "      <td>Mpro</td>\n",
       "      <td>False</td>\n",
       "      <td>False</td>\n",
       "    </tr>\n",
       "    <tr>\n",
       "      <th>4</th>\n",
       "      <td>C=CC(=O)N(c1ccc(cc1)C(F)(F)F)C(c2cc(cnc2)Cl)C(...</td>\n",
       "      <td>8.314930</td>\n",
       "      <td>Mpro</td>\n",
       "      <td>False</td>\n",
       "      <td>False</td>\n",
       "    </tr>\n",
       "    <tr>\n",
       "      <th>...</th>\n",
       "      <td>...</td>\n",
       "      <td>...</td>\n",
       "      <td>...</td>\n",
       "      <td>...</td>\n",
       "      <td>...</td>\n",
       "    </tr>\n",
       "    <tr>\n",
       "      <th>660</th>\n",
       "      <td>c1ccn2cnc(c2c1)NC(=O)Cc3cccc(c3)Cl</td>\n",
       "      <td>7.004365</td>\n",
       "      <td>Mpro</td>\n",
       "      <td>False</td>\n",
       "      <td>False</td>\n",
       "    </tr>\n",
       "    <tr>\n",
       "      <th>661</th>\n",
       "      <td>c1ccnc(c1)c2c(c[nH]n2)NC(=O)c3cccc4n3ccn4</td>\n",
       "      <td>7.004365</td>\n",
       "      <td>Mpro</td>\n",
       "      <td>False</td>\n",
       "      <td>False</td>\n",
       "    </tr>\n",
       "    <tr>\n",
       "      <th>662</th>\n",
       "      <td>c1cnc(nc1Cl)C#N</td>\n",
       "      <td>7.004365</td>\n",
       "      <td>Mpro</td>\n",
       "      <td>False</td>\n",
       "      <td>False</td>\n",
       "    </tr>\n",
       "    <tr>\n",
       "      <th>663</th>\n",
       "      <td>c1cscc1CN2CCN(CC2)C(=O)CCl</td>\n",
       "      <td>8.944124</td>\n",
       "      <td>Mpro</td>\n",
       "      <td>False</td>\n",
       "      <td>False</td>\n",
       "    </tr>\n",
       "    <tr>\n",
       "      <th>664</th>\n",
       "      <td>c1cscc1S(=O)(=O)N2CCN(CC2)C(=O)CCl</td>\n",
       "      <td>9.314783</td>\n",
       "      <td>Mpro</td>\n",
       "      <td>False</td>\n",
       "      <td>False</td>\n",
       "    </tr>\n",
       "  </tbody>\n",
       "</table>\n",
       "<p>665 rows × 5 columns</p>\n",
       "</div>"
      ],
      "text/plain": [
       "                                                SMILES  affinity target  \\\n",
       "0                   B1(OC(C(O1)(C)C)(C)C)c2cnc(nc2)C#N  7.004365   Mpro   \n",
       "1    C([C@@H]1[C@H]([C@@H]([C@H]([C@H](O1)S[Au])O)O...  7.004365   Mpro   \n",
       "2                 C1CN(CCN1C(=O)CCl)S(=O)(=O)C2=CCS=C2  9.314783   Mpro   \n",
       "3    C=CC(=O)N(c1ccc(cc1)C(F)(F)F)C(c2cc(cnc2)C#N)C...  8.521097   Mpro   \n",
       "4    C=CC(=O)N(c1ccc(cc1)C(F)(F)F)C(c2cc(cnc2)Cl)C(...  8.314930   Mpro   \n",
       "..                                                 ...       ...    ...   \n",
       "660                 c1ccn2cnc(c2c1)NC(=O)Cc3cccc(c3)Cl  7.004365   Mpro   \n",
       "661          c1ccnc(c1)c2c(c[nH]n2)NC(=O)c3cccc4n3ccn4  7.004365   Mpro   \n",
       "662                                    c1cnc(nc1Cl)C#N  7.004365   Mpro   \n",
       "663                         c1cscc1CN2CCN(CC2)C(=O)CCl  8.944124   Mpro   \n",
       "664                 c1cscc1S(=O)(=O)N2CCN(CC2)C(=O)CCl  9.314783   Mpro   \n",
       "\n",
       "     top_2p  top_5p  \n",
       "0     False   False  \n",
       "1     False   False  \n",
       "2     False   False  \n",
       "3     False   False  \n",
       "4     False   False  \n",
       "..      ...     ...  \n",
       "660   False   False  \n",
       "661   False   False  \n",
       "662   False   False  \n",
       "663   False   False  \n",
       "664   False   False  \n",
       "\n",
       "[665 rows x 5 columns]"
      ]
     },
     "execution_count": 10,
     "metadata": {},
     "output_type": "execute_result"
    }
   ],
   "source": [
    "df"
   ]
  },
  {
   "cell_type": "markdown",
   "id": "7fa703f3",
   "metadata": {
    "pycharm": {
     "name": "#%% md\n"
    }
   },
   "source": [
    "Create a LigandId column, we'll use this when we determine how many of the top 100 molecules we've identified. "
   ]
  },
  {
   "cell_type": "code",
   "execution_count": 11,
   "id": "5b09587e",
   "metadata": {
    "pycharm": {
     "name": "#%%\n"
    }
   },
   "outputs": [],
   "source": [
    "df[\"LigandId\"] = range(0,len(df))"
   ]
  },
  {
   "cell_type": "markdown",
   "id": "dd1beb2e",
   "metadata": {
    "pycharm": {
     "name": "#%% md\n"
    }
   },
   "source": [
    "Add an RDKit molecule column to the dataframe."
   ]
  },
  {
   "cell_type": "code",
   "execution_count": 12,
   "id": "fe0ab8ee-8fef-48ed-b334-d9cd4ee66aff",
   "metadata": {
    "pycharm": {
     "name": "#%%\n"
    }
   },
   "outputs": [
    {
     "data": {
      "application/vnd.jupyter.widget-view+json": {
       "model_id": "060efc4d727645f8979dd4dba60a6451",
       "version_major": 2,
       "version_minor": 0
      },
      "text/plain": [
       "  0%|          | 0/665 [00:00<?, ?it/s]"
      ]
     },
     "metadata": {},
     "output_type": "display_data"
    }
   ],
   "source": [
    "df['mol'] = df.SMILES.progress_apply(Chem.MolFromSmiles)"
   ]
  },
  {
   "cell_type": "markdown",
   "id": "dfa0db27",
   "metadata": {
    "pycharm": {
     "name": "#%% md\n"
    }
   },
   "source": [
    "Add a fingerprint column to the dataframe."
   ]
  },
  {
   "cell_type": "code",
   "execution_count": 13,
   "id": "12417e8f-f9bb-4f5d-bf89-593247971303",
   "metadata": {
    "pycharm": {
     "name": "#%%\n"
    }
   },
   "outputs": [
    {
     "data": {
      "application/vnd.jupyter.widget-view+json": {
       "model_id": "1b5428be19a24846a68edc3695d398d3",
       "version_major": 2,
       "version_minor": 0
      },
      "text/plain": [
       "  0%|          | 0/665 [00:00<?, ?it/s]"
      ]
     },
     "metadata": {},
     "output_type": "display_data"
    }
   ],
   "source": [
    "df['fp'] = df.mol.progress_apply(uru.mol2morgan_fp)"
   ]
  },
  {
   "cell_type": "markdown",
   "id": "d399cef5",
   "metadata": {
    "pycharm": {
     "name": "#%% md\n"
    }
   },
   "source": [
    "Create a pool for fingerprints for the active learning algorithm to draw from."
   ]
  },
  {
   "cell_type": "code",
   "execution_count": 14,
   "id": "094e011b-da93-49ab-9798-f0e733069774",
   "metadata": {
    "pycharm": {
     "name": "#%%\n"
    }
   },
   "outputs": [],
   "source": [
    "X_pool = np.stack(df.fp.values)"
   ]
  },
  {
   "cell_type": "markdown",
   "id": "1452e741",
   "metadata": {
    "pycharm": {
     "name": "#%% md\n"
    }
   },
   "source": [
    "For the greedy search, we want to select the best scoring molecules, but we want to avoid selecting the same molecules multiple times. This function accepts a list of predictions and does the following.\n",
    "- Sort by score\n",
    "- Remove the molecules that were previously selected\n",
    "- Return the top **n_to_choose**"
   ]
  },
  {
   "cell_type": "code",
   "execution_count": 15,
   "id": "cc13556d",
   "metadata": {
    "pycharm": {
     "name": "#%%\n"
    }
   },
   "outputs": [],
   "source": [
    "def find_best_idx(predicted, used, num_to_choose):\n",
    "    tmp_list = list(enumerate(predicted))\n",
    "    tmp_list.sort(key=itemgetter(1), reverse=True)\n",
    "    tmp_list = [x for x in tmp_list if x[0] not in used]\n",
    "    tmp_list = [x[0] for x in tmp_list]\n",
    "    return tmp_list[:num_to_choose]"
   ]
  },
  {
   "cell_type": "markdown",
   "id": "f1df581e",
   "metadata": {
    "pycharm": {
     "name": "#%% md\n"
    }
   },
   "source": [
    "Here are a couple of acquistion functions.  The first **greedy** simply selects the **n** top scoring molecules to be evaluated by the oracle.  The second **my_max_PI** maximizes the Probability of Improvement (PI) and uses uncertainty and the scores to balance exploration and exploitation.  The git repo associated with our paper [\"Optimizing active learning for free energy calculations\"](https://www.sciencedirect.com/science/article/pii/S2667318522000204) has examples of several other acquistion functions.  TLDR from our work, the acquistion function doesn't make a huge difference. "
   ]
  },
  {
   "cell_type": "code",
   "execution_count": 16,
   "id": "241046d8",
   "metadata": {
    "pycharm": {
     "name": "#%%\n"
    }
   },
   "outputs": [],
   "source": [
    "def greedy(optimizer: BaseLearner, X: modALinput, n_instances=1, used=[]):\n",
    "    res = optimizer.predict(X)\n",
    "    best_idx = find_best_idx(res, used, n_instances)\n",
    "    return best_idx, X[best_idx]\n",
    "\n",
    "def my_max_PI(optimizer: BaseLearner, X: modALinput, tradeoff: float = 0,\n",
    "           n_instances: int = 1, used = [], cycle = -1) -> np.ndarray:\n",
    "    pi = optimizer_PI(optimizer, X, tradeoff=tradeoff)\n",
    "    best_idx = find_best_idx(pi, used, n_instances)\n",
    "    return best_idx, X[best_idx]"
   ]
  },
  {
   "cell_type": "markdown",
   "id": "73b52131",
   "metadata": {
    "pycharm": {
     "name": "#%% md\n"
    }
   },
   "source": [
    "Create an oracle that will return values."
   ]
  },
  {
   "cell_type": "code",
   "execution_count": 17,
   "id": "aefb3804",
   "metadata": {
    "pycharm": {
     "name": "#%%\n"
    }
   },
   "outputs": [],
   "source": [
    "value_column = \"affinity\"\n",
    "oracle = Oracle(df, value_column)"
   ]
  },
  {
   "cell_type": "markdown",
   "id": "bf69645c",
   "metadata": {
    "pycharm": {
     "name": "#%% md\n"
    }
   },
   "source": [
    "This is the main active learning loop."
   ]
  },
  {
   "cell_type": "code",
   "execution_count": 18,
   "id": "03d3defe-55e6-4e34-bce7-a429b3ca9acb",
   "metadata": {
    "pycharm": {
     "name": "#%%\n"
    }
   },
   "outputs": [
    {
     "data": {
      "application/vnd.jupyter.widget-view+json": {
       "model_id": "14df1edcb1dd4275bbbf6f062edb2723",
       "version_major": 2,
       "version_minor": 0
      },
      "text/plain": [
       "  0%|          | 0/5 [00:00<?, ?it/s]"
      ]
     },
     "metadata": {},
     "output_type": "display_data"
    }
   ],
   "source": [
    "# number of molecules to select at each active learning cycle\n",
    "n_instances = 50\n",
    "# number of active learning cycles to run\n",
    "n_cycles = 5\n",
    "\n",
    "# define the acquistion function\n",
    "query_strategy = my_max_PI\n",
    "# select an initial random cycle\n",
    "X_initial, y_initial, sample_idx = oracle.sample(n_instances)\n",
    "# instantiate the optimizer with an estimator, training data, and an acquistion function\n",
    "optimizer = BayesianOptimizer(estimator=GaussianProcessRegressor(kernel=TanimotoKernel()),\n",
    "                              X_training=np.stack(X_initial), y_training=y_initial,\n",
    "                              query_strategy=query_strategy)\n",
    "# initialize a list of scores\n",
    "val_list = [y_initial]\n",
    "# keep track of which molecules we've sampled\n",
    "used = list(sample_idx)\n",
    "# the active learning loop\n",
    "for i in tqdm(range(0, n_cycles)):\n",
    "    # ask the optimizer for the next set of molecules\n",
    "    query_idx, query_desc = optimizer.query(X_pool, n_instances=n_instances, used=used)\n",
    "    # get values from the oracle, in practice, this is where we would do the more expensive calculations\n",
    "    vals = oracle.get_values(query_idx)\n",
    "    # add the returned values to val_list\n",
    "    val_list.append(vals)\n",
    "    # keep track of the molecules we've used\n",
    "    used += query_idx\n",
    "    # update the optimizer with the new values\n",
    "    optimizer.teach(query_desc, vals)"
   ]
  },
  {
   "cell_type": "markdown",
   "id": "2ff0b2aa",
   "metadata": {
    "pycharm": {
     "name": "#%% md\n"
    }
   },
   "source": [
    "Let's see how many of the top 100 molecules we found."
   ]
  },
  {
   "cell_type": "code",
   "execution_count": 19,
   "id": "054caae0",
   "metadata": {
    "pycharm": {
     "name": "#%%\n"
    }
   },
   "outputs": [
    {
     "data": {
      "text/plain": [
       "72"
      ]
     },
     "execution_count": 19,
     "metadata": {},
     "output_type": "execute_result"
    }
   ],
   "source": [
    "# sort the initial dataframe by score\n",
    "ref_df = df.sort_values(value_column, ascending=False).head(100).copy()\n",
    "# create a new dataframe with the selected molecules and sort by score\n",
    "pick_df = df.iloc[used].sort_values(value_column, ascending=False).head(100).copy()\n",
    "# merge the two dataframes to see how many molecules are in common\n",
    "len(ref_df.merge(pick_df, on=\"LigandId\"))"
   ]
  },
  {
   "cell_type": "markdown",
   "id": "197498dd",
   "metadata": {
    "pycharm": {
     "name": "#%% md\n"
    }
   },
   "source": [
    "Let's look at how the scores were distributed across the active learning cycles. First we need to put the data in a dataframe."
   ]
  },
  {
   "cell_type": "code",
   "execution_count": 20,
   "id": "1904073c",
   "metadata": {
    "pycharm": {
     "name": "#%%\n"
    }
   },
   "outputs": [
    {
     "data": {
      "text/html": [
       "<div>\n",
       "<style scoped>\n",
       "    .dataframe tbody tr th:only-of-type {\n",
       "        vertical-align: middle;\n",
       "    }\n",
       "\n",
       "    .dataframe tbody tr th {\n",
       "        vertical-align: top;\n",
       "    }\n",
       "\n",
       "    .dataframe thead th {\n",
       "        text-align: right;\n",
       "    }\n",
       "</style>\n",
       "<table border=\"1\" class=\"dataframe\">\n",
       "  <thead>\n",
       "    <tr style=\"text-align: right;\">\n",
       "      <th></th>\n",
       "      <th>SMILES</th>\n",
       "      <th>cycle</th>\n",
       "      <th>mol_idx</th>\n",
       "      <th>affinity</th>\n",
       "    </tr>\n",
       "  </thead>\n",
       "  <tbody>\n",
       "    <tr>\n",
       "      <th>0</th>\n",
       "      <td>CC(=O)N(CC(=O)Nc1ccc(c(c1)Cl)F)c2cccc(c2)C#N</td>\n",
       "      <td>0</td>\n",
       "      <td>18</td>\n",
       "      <td>7.004365</td>\n",
       "    </tr>\n",
       "    <tr>\n",
       "      <th>1</th>\n",
       "      <td>Cc1ccncc1NC(=O)[C@@H]2CCOc3c2cc(cc3)Cl</td>\n",
       "      <td>0</td>\n",
       "      <td>379</td>\n",
       "      <td>7.004365</td>\n",
       "    </tr>\n",
       "    <tr>\n",
       "      <th>2</th>\n",
       "      <td>c1ccc2c(c1)cncc2CC(=O)Nc3cccc(c3)Cl</td>\n",
       "      <td>0</td>\n",
       "      <td>587</td>\n",
       "      <td>8.142611</td>\n",
       "    </tr>\n",
       "    <tr>\n",
       "      <th>3</th>\n",
       "      <td>COc1ccccc1OCCNC(=O)c2cc(=O)[nH]c3c2c(ccc3)OC</td>\n",
       "      <td>0</td>\n",
       "      <td>221</td>\n",
       "      <td>8.682608</td>\n",
       "    </tr>\n",
       "    <tr>\n",
       "      <th>4</th>\n",
       "      <td>c1ccc2c(c1)cncc2NC(=O)[C@@H]3COc4c3cc(cc4)Cl</td>\n",
       "      <td>0</td>\n",
       "      <td>639</td>\n",
       "      <td>9.563925</td>\n",
       "    </tr>\n",
       "    <tr>\n",
       "      <th>...</th>\n",
       "      <td>...</td>\n",
       "      <td>...</td>\n",
       "      <td>...</td>\n",
       "      <td>...</td>\n",
       "    </tr>\n",
       "    <tr>\n",
       "      <th>295</th>\n",
       "      <td>CN(C)c1ccc(cc1)N(Cc2cscn2)C(=O)Cn3c4ccccc4nn3</td>\n",
       "      <td>5</td>\n",
       "      <td>148</td>\n",
       "      <td>7.844756</td>\n",
       "    </tr>\n",
       "    <tr>\n",
       "      <th>296</th>\n",
       "      <td>Cc1ccncc1NC(=O)Cc2cc(cc(c2)Cl)c3ccc(cc3)C4(CCO4)C</td>\n",
       "      <td>5</td>\n",
       "      <td>360</td>\n",
       "      <td>7.816212</td>\n",
       "    </tr>\n",
       "    <tr>\n",
       "      <th>297</th>\n",
       "      <td>Cc1ccncc1NC(=O)Cc2cc(cc(c2)Cl)NCC(C)(C)C#N</td>\n",
       "      <td>5</td>\n",
       "      <td>344</td>\n",
       "      <td>7.483095</td>\n",
       "    </tr>\n",
       "    <tr>\n",
       "      <th>298</th>\n",
       "      <td>CCC(=O)Nc1ccc(cc1)N(Cc2ccsc2)C(=O)Cn3c4ccccc4nn3</td>\n",
       "      <td>5</td>\n",
       "      <td>101</td>\n",
       "      <td>7.900932</td>\n",
       "    </tr>\n",
       "    <tr>\n",
       "      <th>299</th>\n",
       "      <td>Cc1cc(c(cc1Cl)OC)NC(=O)Nc2cn(c(=O)c3c2cccc3)CC...</td>\n",
       "      <td>5</td>\n",
       "      <td>264</td>\n",
       "      <td>7.004365</td>\n",
       "    </tr>\n",
       "  </tbody>\n",
       "</table>\n",
       "<p>300 rows × 4 columns</p>\n",
       "</div>"
      ],
      "text/plain": [
       "                                                SMILES  cycle  mol_idx  \\\n",
       "0         CC(=O)N(CC(=O)Nc1ccc(c(c1)Cl)F)c2cccc(c2)C#N      0       18   \n",
       "1               Cc1ccncc1NC(=O)[C@@H]2CCOc3c2cc(cc3)Cl      0      379   \n",
       "2                  c1ccc2c(c1)cncc2CC(=O)Nc3cccc(c3)Cl      0      587   \n",
       "3         COc1ccccc1OCCNC(=O)c2cc(=O)[nH]c3c2c(ccc3)OC      0      221   \n",
       "4         c1ccc2c(c1)cncc2NC(=O)[C@@H]3COc4c3cc(cc4)Cl      0      639   \n",
       "..                                                 ...    ...      ...   \n",
       "295      CN(C)c1ccc(cc1)N(Cc2cscn2)C(=O)Cn3c4ccccc4nn3      5      148   \n",
       "296  Cc1ccncc1NC(=O)Cc2cc(cc(c2)Cl)c3ccc(cc3)C4(CCO4)C      5      360   \n",
       "297         Cc1ccncc1NC(=O)Cc2cc(cc(c2)Cl)NCC(C)(C)C#N      5      344   \n",
       "298   CCC(=O)Nc1ccc(cc1)N(Cc2ccsc2)C(=O)Cn3c4ccccc4nn3      5      101   \n",
       "299  Cc1cc(c(cc1Cl)OC)NC(=O)Nc2cn(c(=O)c3c2cccc3)CC...      5      264   \n",
       "\n",
       "     affinity  \n",
       "0    7.004365  \n",
       "1    7.004365  \n",
       "2    8.142611  \n",
       "3    8.682608  \n",
       "4    9.563925  \n",
       "..        ...  \n",
       "295  7.844756  \n",
       "296  7.816212  \n",
       "297  7.483095  \n",
       "298  7.900932  \n",
       "299  7.004365  \n",
       "\n",
       "[300 rows x 4 columns]"
      ]
     },
     "execution_count": 20,
     "metadata": {},
     "output_type": "execute_result"
    }
   ],
   "source": [
    "res_list = []\n",
    "for idx, v in enumerate(val_list):\n",
    "    res_list += [(idx, x) for x in v]\n",
    "res_df = pd.DataFrame(res_list, columns=[\"cycle\", value_column])\n",
    "# add row numbers for the selected molecules\n",
    "res_df['mol_idx'] = used\n",
    "# add the SMILES for the selected molecules \n",
    "res_df['SMILES'] = df.SMILES.values[used]\n",
    "# reorder the columns in res_df\n",
    "res_df = res_df[['SMILES','cycle','mol_idx','affinity']]\n",
    "res_df"
   ]
  },
  {
   "cell_type": "markdown",
   "id": "d68ce763",
   "metadata": {
    "pycharm": {
     "name": "#%% md\n"
    }
   },
   "source": [
    "Plot the scores of the molecules selected in each active learning round.  Remember that the first active learning cycle was randomly selected. "
   ]
  },
  {
   "cell_type": "code",
   "execution_count": 21,
   "id": "9366f78c",
   "metadata": {
    "pycharm": {
     "name": "#%%\n"
    }
   },
   "outputs": [
    {
     "data": {
      "image/png": "[encoded data removed]",
      "text/plain": [
       "<Figure size 640x480 with 1 Axes>"
      ]
     },
     "metadata": {},
     "output_type": "display_data"
    }
   ],
   "source": [
    "ax = sns.boxplot(x=\"cycle\", y=value_column, data=res_df,color=\"lightblue\")\n",
    "ax.set_xlabel(\"Active Learning Cycle\");"
   ]
  },
  {
   "cell_type": "markdown",
   "id": "b1faec23",
   "metadata": {
    "pycharm": {
     "name": "#%% md\n"
    }
   },
   "source": [
    "Now let's plot the distributions for the top 100 molecules from the input data vs the top 100 found using active learning."
   ]
  },
  {
   "cell_type": "code",
   "execution_count": 32,
   "id": "bf64efc0",
   "metadata": {
    "pycharm": {
     "name": "#%%\n"
    }
   },
   "outputs": [
    {
     "data": {
      "image/png": "[encoded data removed]",
      "text/plain": [
       "<Figure size 640x480 with 1 Axes>"
      ]
     },
     "metadata": {},
     "output_type": "display_data"
    }
   ],
   "source": [
    "# Get a dataframe with the top 100 reference molecules\n",
    "ref_top_100 = ref_df.sort_values(\"affinity\",ascending=False).head(100).copy()\n",
    "ref_top_100['Dataset'] = 'Reference'\n",
    "# Get a dataframe with top 100 molecules predicted by active learning\n",
    "pred_top_100 = res_df.sort_values(\"affinity\",ascending=False).head(100).copy()\n",
    "pred_top_100['Dataset'] = 'Active Learning'\n",
    "# Make a boxplot comparing the scores of the top 100 molecules\n",
    "ax = sns.boxplot(x=\"Dataset\", y=\"affinity\", data=pd.concat([ref_top_100,pred_top_100]),color=\"lightblue\");\n",
    "ax.set_ylabel(\"Affinity\");"
   ]
  },
  {
   "cell_type": "markdown",
   "id": "6f607c2b",
   "metadata": {
    "pycharm": {
     "name": "#%%\n"
    }
   },
   "source": [
    "We can also compare the scores of the molecules selected by active learning with scores from randomly selected molecules. "
   ]
  },
  {
   "cell_type": "code",
   "execution_count": 31,
   "id": "59ec5da3",
   "metadata": {
    "pycharm": {
     "name": "#%%\n"
    }
   },
   "outputs": [
    {
     "data": {
      "image/png": "[encoded data removed]",
      "text/plain": [
       "<Figure size 640x480 with 1 Axes>"
      ]
     },
     "metadata": {},
     "output_type": "display_data"
    }
   ],
   "source": [
    "# Take a random sample from the input data that is the same size as the dataframe with the selected molecules\n",
    "random_df = df.sample(len(res_df)).copy()\n",
    "random_df['Dataset'] = 'Random'\n",
    "# Label the active learning data\n",
    "res_df['Dataset'] = 'Active Learning'\n",
    "ax = sns.boxplot(x=\"Dataset\", y=\"affinity\", data=pd.concat([random_df,res_df]),color=\"lightblue\");\n",
    "ax.set_ylabel(\"Affinity\");"
   ]
  },
  {
   "cell_type": "code",
   "execution_count": null,
   "id": "ae8cd85b",
   "metadata": {
    "pycharm": {
     "name": "#%%\n"
    }
   },
   "outputs": [],
   "source": []
  }
 ],
 "metadata": {
  "kernelspec": {
   "display_name": "Python 3 (ipykernel)",
   "language": "python",
   "name": "python3"
  },
  "language_info": {
   "codemirror_mode": {
    "name": "ipython",
    "version": 3
   },
   "file_extension": ".py",
   "mimetype": "text/x-python",
   "name": "python",
   "nbconvert_exporter": "python",
   "pygments_lexer": "ipython3",
   "version": "3.11.3"
  }
 },
 "nbformat": 4,
 "nbformat_minor": 5
}
