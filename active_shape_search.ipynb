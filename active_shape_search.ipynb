{
 "cells": [
  {
   "cell_type": "markdown",
   "id": "5769c09f",
   "metadata": {},
   "source": [
    "### Using Active Learning in a 3D Similarity Search \n",
    "In this tutorial we'll look at a real example where we use active learning to find molecules with similar shape and pharmcophoric features as a query molecule. The code here is very similar to the code in active_regression.ipynb.  The only real change here is in the oracle which scores the molecules. Some of the code and data in this notebook was borrowed. \n",
    "- The query molecule and the database molecules are taken from the [LitPCBA](https://pubs.acs.org/doi/10.1021/acs.jcim.0c00155) set. \n",
    "- The 3D overlay code came from [ESPSim](https://github.com/hesther/espsim)\n",
    "- Some code was also borrowed from [Lig3DLens](https://github.com/healx/lig3dlens)  \n",
    "\n",
    "Thanks to the authors of these packages for their commitment to open science. "
   ]
  },
  {
   "cell_type": "code",
   "execution_count": 1,
   "id": "bdc5358b-51a1-4b8c-bc5d-f484eb8eab6b",
   "metadata": {
    "pycharm": {
     "name": "#%%\n"
    }
   },
   "outputs": [],
   "source": [
    "from operator import itemgetter\n",
    "\n",
    "import numpy as np\n",
    "import pandas as pd\n",
    "import seaborn as sns\n",
    "import sklearn.gaussian_process as gp\n",
    "import useful_rdkit_utils as uru\n",
    "from modAL.acquisition import BaseLearner\n",
    "from modAL.models import BayesianOptimizer\n",
    "from modAL.utils.data import modALinput\n",
    "from modAL.acquisition import optimizer_PI\n",
    "from rdkit import Chem\n",
    "from sklearn.gaussian_process import GaussianProcessRegressor\n",
    "from tqdm.auto import tqdm\n",
    "from modAL.utils.selection import multi_argmax\n",
    "from align3D_score import score_alignment\n",
    "from gen_conformers import generate_conformers\n",
    "import py3Dmol"
   ]
  },
  {
   "cell_type": "markdown",
   "id": "94f7e918",
   "metadata": {
    "pycharm": {
     "name": "#%% md\n"
    }
   },
   "source": [
    "### Define an Oracle\n",
    "Here's where we define the oracle that overlays the molecules and compares the shapes and pharmacophoric features. "
   ]
  },
  {
   "cell_type": "code",
   "execution_count": 52,
   "id": "ed43e30d",
   "metadata": {
    "pycharm": {
     "name": "#%%\n"
    }
   },
   "outputs": [],
   "source": [
    "class ShapeOracle:\n",
    "    # instantiate the oracle with a query molecule\n",
    "    def __init__(self, ref_molfile):\n",
    "        self.ref_mol = Chem.MolFromMolFile(ref_molfile)\n",
    "        self.ref_mol = Chem.AddHs(self.ref_mol)\n",
    "\n",
    "    def get_values(self, input_smiles_list):\n",
    "        result_list = []\n",
    "        for smi in tqdm(input_smiles_list):\n",
    "            res = None\n",
    "            mol = Chem.MolFromSmiles(smi)\n",
    "            mol = Chem.AddHs(mol)\n",
    "            if mol:       \n",
    "                mol_3d = generate_conformers(mol,25)\n",
    "                if mol_3d:\n",
    "                    res = score_alignment(mol_3d,self.ref_mol)\n",
    "            result_list.append(res)\n",
    "        return result_list"
   ]
  },
  {
   "cell_type": "markdown",
   "id": "9909b693",
   "metadata": {
    "pycharm": {
     "name": "#%% md\n"
    }
   },
   "source": [
    "### Define a Kernel Function for Gaussian Process Regression\n",
    "When we do active learning, we have to define a machine learning models that acts as a surrogate for the more expensive calculations.  In this case, we're going to use Gaussian Process Regression (GPR) to build our regression models.  To use GPR, we need to define a kernel function. Here we calculate a kernel based on the Tanimoto similarities of the molecules."
   ]
  },
  {
   "cell_type": "code",
   "execution_count": 3,
   "id": "669dc440-93c9-4d29-8256-4249efb8c213",
   "metadata": {
    "pycharm": {
     "name": "#%%\n"
    }
   },
   "outputs": [],
   "source": [
    "def calculate_similarity(a, b):\n",
    "    # Tanimoto similarity a vs. b\n",
    "    aa = np.sum(a, axis=1, keepdims=True)\n",
    "    bb = np.sum(b, axis=1, keepdims=True)\n",
    "    ab = np.matmul(a, b.T)\n",
    "    return np.true_divide(ab, aa + bb.T - ab)\n",
    "\n",
    "\n",
    "class TanimotoKernel(gp.kernels.NormalizedKernelMixin,\n",
    "                     gp.kernels.StationaryKernelMixin, gp.kernels.Kernel):\n",
    "\n",
    "    def __init__(self):\n",
    "        pass\n",
    "\n",
    "    def __call__(self, X, Y=None, eval_gradient=False):\n",
    "        assert not eval_gradient\n",
    "        if Y is None:\n",
    "            Y = X\n",
    "        return calculate_similarity(X, Y)"
   ]
  },
  {
   "cell_type": "markdown",
   "id": "e99227cf",
   "metadata": {
    "pycharm": {
     "name": "#%% md\n"
    }
   },
   "source": [
    "Enable progress bars for the Pandas apply function."
   ]
  },
  {
   "cell_type": "code",
   "execution_count": 4,
   "id": "a1678470-9858-43e8-8132-d9518e1dcd9d",
   "metadata": {
    "pycharm": {
     "name": "#%%\n"
    }
   },
   "outputs": [],
   "source": [
    "tqdm.pandas()"
   ]
  },
  {
   "cell_type": "markdown",
   "id": "bae9d650",
   "metadata": {
    "pycharm": {
     "name": "#%% md\n"
    }
   },
   "source": [
    "### Read the Input Data\n",
    "Read the input data.  This data comes from the [LitPBCBA](https://pubs.acs.org/doi/10.1021/acs.jcim.0c00155) sets. "
   ]
  },
  {
   "cell_type": "code",
   "execution_count": 54,
   "id": "ce34db47-4911-41a0-9c04-5c95f56be258",
   "metadata": {
    "pycharm": {
     "name": "#%%\n"
    }
   },
   "outputs": [],
   "source": [
    "df = pd.read_csv(\"MAPK1.csv\")"
   ]
  },
  {
   "cell_type": "markdown",
   "id": "6a4b2af7",
   "metadata": {
    "pycharm": {
     "name": "#%% md\n"
    }
   },
   "source": [
    "Take a quick look at the data.  In this case we're going to ignore the activity column. "
   ]
  },
  {
   "cell_type": "code",
   "execution_count": 55,
   "id": "e3c2c66d",
   "metadata": {
    "pycharm": {
     "name": "#%%\n"
    }
   },
   "outputs": [
    {
     "data": {
      "text/html": [
       "<div>\n",
       "<style scoped>\n",
       "    .dataframe tbody tr th:only-of-type {\n",
       "        vertical-align: middle;\n",
       "    }\n",
       "\n",
       "    .dataframe tbody tr th {\n",
       "        vertical-align: top;\n",
       "    }\n",
       "\n",
       "    .dataframe thead th {\n",
       "        text-align: right;\n",
       "    }\n",
       "</style>\n",
       "<table border=\"1\" class=\"dataframe\">\n",
       "  <thead>\n",
       "    <tr style=\"text-align: right;\">\n",
       "      <th></th>\n",
       "      <th>SMILES</th>\n",
       "      <th>Name</th>\n",
       "      <th>active</th>\n",
       "    </tr>\n",
       "  </thead>\n",
       "  <tbody>\n",
       "    <tr>\n",
       "      <th>0</th>\n",
       "      <td>O=C(c1ccncc1)C23C[N@@]4C[N@@](C[NH+](C4)C2)C3</td>\n",
       "      <td>7975332</td>\n",
       "      <td>0</td>\n",
       "    </tr>\n",
       "    <tr>\n",
       "      <th>1</th>\n",
       "      <td>CCN(c1cccc(C)c1)S(=O)(=O)c2cccc3nsnc23</td>\n",
       "      <td>4241206</td>\n",
       "      <td>0</td>\n",
       "    </tr>\n",
       "    <tr>\n",
       "      <th>2</th>\n",
       "      <td>CC1CCCCN1c2nnc(N)s2</td>\n",
       "      <td>4243040</td>\n",
       "      <td>0</td>\n",
       "    </tr>\n",
       "    <tr>\n",
       "      <th>3</th>\n",
       "      <td>CN1C(=O)C2(C(=C([NH3+])Oc3[nH]nc(c4ccc(Cl)cc4)...</td>\n",
       "      <td>862502</td>\n",
       "      <td>0</td>\n",
       "    </tr>\n",
       "    <tr>\n",
       "      <th>4</th>\n",
       "      <td>CCOc1ccc(cc1OCC)C(=O)Nc2nnc(C)s2</td>\n",
       "      <td>7977049</td>\n",
       "      <td>0</td>\n",
       "    </tr>\n",
       "    <tr>\n",
       "      <th>...</th>\n",
       "      <td>...</td>\n",
       "      <td>...</td>\n",
       "      <td>...</td>\n",
       "    </tr>\n",
       "    <tr>\n",
       "      <th>62932</th>\n",
       "      <td>ClC1=CCC2C(C1)C(=O)N(CCC(=O)NCc3occc3)C2=O</td>\n",
       "      <td>4262792</td>\n",
       "      <td>0</td>\n",
       "    </tr>\n",
       "    <tr>\n",
       "      <th>62933</th>\n",
       "      <td>CCO\\C(=C/1\\C(c2ccc(OCC)c(OC)c2)n3nc(C)nc3N=C1C)\\O</td>\n",
       "      <td>7966068</td>\n",
       "      <td>0</td>\n",
       "    </tr>\n",
       "    <tr>\n",
       "      <th>62934</th>\n",
       "      <td>CCOC(=O)N1CC[NH+](CC(=O)c2c(C)[nH]c3ccccc23)CC1</td>\n",
       "      <td>4258998</td>\n",
       "      <td>0</td>\n",
       "    </tr>\n",
       "    <tr>\n",
       "      <th>62935</th>\n",
       "      <td>CC(C)(C)c1ccc(cc1)S(=O)(=O)N2CCN(CCC#N)CC2</td>\n",
       "      <td>7965720</td>\n",
       "      <td>0</td>\n",
       "    </tr>\n",
       "    <tr>\n",
       "      <th>62936</th>\n",
       "      <td>CCOC(=O)C1CCC[NH+](CC(=O)Nc2c(F)c(F)c(F)c(F)c2...</td>\n",
       "      <td>3714960</td>\n",
       "      <td>0</td>\n",
       "    </tr>\n",
       "  </tbody>\n",
       "</table>\n",
       "<p>62937 rows × 3 columns</p>\n",
       "</div>"
      ],
      "text/plain": [
       "                                                  SMILES     Name  active\n",
       "0          O=C(c1ccncc1)C23C[N@@]4C[N@@](C[NH+](C4)C2)C3  7975332       0\n",
       "1                 CCN(c1cccc(C)c1)S(=O)(=O)c2cccc3nsnc23  4241206       0\n",
       "2                                    CC1CCCCN1c2nnc(N)s2  4243040       0\n",
       "3      CN1C(=O)C2(C(=C([NH3+])Oc3[nH]nc(c4ccc(Cl)cc4)...   862502       0\n",
       "4                       CCOc1ccc(cc1OCC)C(=O)Nc2nnc(C)s2  7977049       0\n",
       "...                                                  ...      ...     ...\n",
       "62932         ClC1=CCC2C(C1)C(=O)N(CCC(=O)NCc3occc3)C2=O  4262792       0\n",
       "62933  CCO\\C(=C/1\\C(c2ccc(OCC)c(OC)c2)n3nc(C)nc3N=C1C)\\O  7966068       0\n",
       "62934    CCOC(=O)N1CC[NH+](CC(=O)c2c(C)[nH]c3ccccc23)CC1  4258998       0\n",
       "62935         CC(C)(C)c1ccc(cc1)S(=O)(=O)N2CCN(CCC#N)CC2  7965720       0\n",
       "62936  CCOC(=O)C1CCC[NH+](CC(=O)Nc2c(F)c(F)c(F)c(F)c2...  3714960       0\n",
       "\n",
       "[62937 rows x 3 columns]"
      ]
     },
     "execution_count": 55,
     "metadata": {},
     "output_type": "execute_result"
    }
   ],
   "source": [
    "df"
   ]
  },
  {
   "cell_type": "markdown",
   "id": "7fa703f3",
   "metadata": {},
   "source": [
    "Create a LigandId column, we'll use this when we determine how many of the top 100 molecules we've identified. "
   ]
  },
  {
   "cell_type": "markdown",
   "id": "dfa0db27",
   "metadata": {
    "pycharm": {
     "name": "#%% md\n"
    }
   },
   "source": [
    "### Generate Descriptors for the Machine Learning Model\n",
    "Add a fingerprint column to the dataframe."
   ]
  },
  {
   "cell_type": "code",
   "execution_count": 56,
   "id": "12417e8f-f9bb-4f5d-bf89-593247971303",
   "metadata": {
    "pycharm": {
     "name": "#%%\n"
    }
   },
   "outputs": [
    {
     "data": {
      "application/vnd.jupyter.widget-view+json": {
       "model_id": "ec90271dd334450193c9b715babbf7c9",
       "version_major": 2,
       "version_minor": 0
      },
      "text/plain": [
       "  0%|          | 0/62937 [00:00<?, ?it/s]"
      ]
     },
     "metadata": {},
     "output_type": "display_data"
    }
   ],
   "source": [
    "df['fp'] = df.SMILES.progress_apply(uru.smi2morgan_fp)"
   ]
  },
  {
   "cell_type": "markdown",
   "id": "d399cef5",
   "metadata": {
    "pycharm": {
     "name": "#%% md\n"
    }
   },
   "source": [
    "Create a pool for fingerprints for the active learning algorithm to draw from."
   ]
  },
  {
   "cell_type": "code",
   "execution_count": 57,
   "id": "094e011b-da93-49ab-9798-f0e733069774",
   "metadata": {
    "pycharm": {
     "name": "#%%\n"
    }
   },
   "outputs": [],
   "source": [
    "X_pool = np.stack(df.fp.values)"
   ]
  },
  {
   "cell_type": "markdown",
   "id": "1452e741",
   "metadata": {
    "pycharm": {
     "name": "#%% md\n"
    }
   },
   "source": [
    "For the greedy search, we want to select the best scoring molecules, but we want to avoid selecting the same molecules multiple times. This function accepts a list of predictions and does the following.\n",
    "- Sort by score\n",
    "- Remove the molecules that were previously selected\n",
    "- Return the top **n_to_choose**"
   ]
  },
  {
   "cell_type": "markdown",
   "id": "de40f7b8",
   "metadata": {},
   "source": [
    "### Define a Few Utility Functions"
   ]
  },
  {
   "cell_type": "markdown",
   "id": "7dfd32ec",
   "metadata": {},
   "source": [
    "A utility function used by the acquisition functions"
   ]
  },
  {
   "cell_type": "code",
   "execution_count": 71,
   "id": "cc13556d",
   "metadata": {
    "pycharm": {
     "name": "#%%\n"
    }
   },
   "outputs": [],
   "source": [
    "def find_best_idx(predicted, used, num_to_choose):\n",
    "    tmp_list = list(enumerate(predicted))\n",
    "    tmp_list.sort(key=itemgetter(1), reverse=True)\n",
    "    tmp_list = [x for x in tmp_list if x[0] not in used]\n",
    "    tmp_list = [x[0] for x in tmp_list]\n",
    "    return tmp_list[:num_to_choose]"
   ]
  },
  {
   "cell_type": "markdown",
   "id": "67761d91",
   "metadata": {},
   "source": [
    "A function to combine the results from the shape search into the dataframe with the molecules. "
   ]
  },
  {
   "cell_type": "code",
   "execution_count": 72,
   "id": "ee088e38",
   "metadata": {},
   "outputs": [],
   "source": [
    "def compile_results(df_in, shape_results):\n",
    "    df_in['shape_res'] = shape_results\n",
    "    df_in.dropna(subset='shape_res',inplace=True)\n",
    "    df_in['score'] = [x.shape_score + x.esp_score + x.rdkit_score for x in df_in.shape_res]\n",
    "    return df_in"
   ]
  },
  {
   "cell_type": "markdown",
   "id": "f1df581e",
   "metadata": {
    "pycharm": {
     "name": "#%% md\n"
    }
   },
   "source": [
    "### Define Acquisition Functions\n",
    "Here are a couple of acquistion functions.  The first **greedy** simply selects the **n** top scoring molecules to be evaluated by the oracle.  The second **my_max_PI** maximizes the Probability of Improvement (PI) and uses uncertainty and the scores to balance exploration and exploitation.  The git repo associated with our paper [\"Optimizing active learning for free energy calculations\"](https://www.sciencedirect.com/science/article/pii/S2667318522000204) has examples of several other acquistion functions.  TLDR from our work, the acquistion function doesn't make a huge difference. "
   ]
  },
  {
   "cell_type": "code",
   "execution_count": 59,
   "id": "241046d8",
   "metadata": {
    "pycharm": {
     "name": "#%%\n"
    }
   },
   "outputs": [],
   "source": [
    "def greedy(optimizer: BaseLearner, X: modALinput, n_instances=1, used=[]):\n",
    "    res = optimizer.predict(X)\n",
    "    best_idx = find_best_idx(res, used, n_instances)\n",
    "    return best_idx, X[best_idx]\n",
    "\n",
    "def my_max_PI(optimizer: BaseLearner, X: modALinput, tradeoff: float = 0,\n",
    "           n_instances: int = 1, used = [], cycle = -1) -> np.ndarray:\n",
    "    pi = optimizer_PI(optimizer, X, tradeoff=tradeoff)\n",
    "    best_idx = find_best_idx(pi, used, n_instances)\n",
    "    return best_idx, X[best_idx]"
   ]
  },
  {
   "cell_type": "markdown",
   "id": "7d2e2253",
   "metadata": {},
   "source": [
    "### Run Active Learning"
   ]
  },
  {
   "cell_type": "markdown",
   "id": "73b52131",
   "metadata": {
    "pycharm": {
     "name": "#%% md\n"
    }
   },
   "source": [
    "Create an oracle that will return values."
   ]
  },
  {
   "cell_type": "code",
   "execution_count": 73,
   "id": "aefb3804",
   "metadata": {
    "pycharm": {
     "name": "#%%\n"
    }
   },
   "outputs": [],
   "source": [
    "oracle = ShapeOracle(\"data/2chw_lig.sdf\")"
   ]
  },
  {
   "cell_type": "markdown",
   "id": "bf69645c",
   "metadata": {
    "pycharm": {
     "name": "#%% md\n"
    }
   },
   "source": [
    "This is the main active learning loop."
   ]
  },
  {
   "cell_type": "code",
   "execution_count": 74,
   "id": "575b177f",
   "metadata": {},
   "outputs": [
    {
     "data": {
      "application/vnd.jupyter.widget-view+json": {
       "model_id": "b16d49cd5dff426191bae820c60f800a",
       "version_major": 2,
       "version_minor": 0
      },
      "text/plain": [
       "  0%|          | 0/100 [00:00<?, ?it/s]"
      ]
     },
     "metadata": {},
     "output_type": "display_data"
    },
    {
     "data": {
      "application/vnd.jupyter.widget-view+json": {
       "model_id": "69a97723158d446185f3d645a3bbcc2f",
       "version_major": 2,
       "version_minor": 0
      },
      "text/plain": [
       "  0%|          | 0/100 [00:00<?, ?it/s]"
      ]
     },
     "metadata": {},
     "output_type": "display_data"
    },
    {
     "data": {
      "application/vnd.jupyter.widget-view+json": {
       "model_id": "f3db10d33f554fbda4492b81ac77565e",
       "version_major": 2,
       "version_minor": 0
      },
      "text/plain": [
       "  0%|          | 0/100 [00:00<?, ?it/s]"
      ]
     },
     "metadata": {},
     "output_type": "display_data"
    },
    {
     "data": {
      "application/vnd.jupyter.widget-view+json": {
       "model_id": "3bcc461b349b45f4a76f923620db4d3e",
       "version_major": 2,
       "version_minor": 0
      },
      "text/plain": [
       "  0%|          | 0/100 [00:00<?, ?it/s]"
      ]
     },
     "metadata": {},
     "output_type": "display_data"
    },
    {
     "data": {
      "application/vnd.jupyter.widget-view+json": {
       "model_id": "b516ed5a6dda4073b5acc2e26aa4fe66",
       "version_major": 2,
       "version_minor": 0
      },
      "text/plain": [
       "  0%|          | 0/100 [00:00<?, ?it/s]"
      ]
     },
     "metadata": {},
     "output_type": "display_data"
    },
    {
     "data": {
      "application/vnd.jupyter.widget-view+json": {
       "model_id": "202f8a673c044c1baa4bb78e415f8011",
       "version_major": 2,
       "version_minor": 0
      },
      "text/plain": [
       "  0%|          | 0/100 [00:00<?, ?it/s]"
      ]
     },
     "metadata": {},
     "output_type": "display_data"
    }
   ],
   "source": [
    "# number of molecules to select at each active learning cycle\n",
    "n_instances = 100\n",
    "# number of active learning cycles to run\n",
    "n_cycles = 5\n",
    "\n",
    "# define the acquistion function\n",
    "query_strategy = my_max_PI\n",
    "\n",
    "# select an initial random sample\n",
    "sample_df = df.sample(n_instances).copy()\n",
    "sample_df['cycle'] = 0\n",
    "# get the shape scores for the random sample\n",
    "init_shape_res = oracle.get_values(sample_df.SMILES.values)\n",
    "# add the scores to the dataframe\n",
    "sample_df = compile_results(sample_df, init_shape_res)\n",
    "# define X and y to train the initial model\n",
    "X_initial = sample_df.fp.values\n",
    "y_initial = sample_df.score.values\n",
    "\n",
    "# instantiate the optimizer with an estimator, training data, and an acquistion function\n",
    "optimizer = BayesianOptimizer(estimator=GaussianProcessRegressor(kernel=TanimotoKernel()),\n",
    "                              X_training=np.stack(X_initial), y_training=y_initial,\n",
    "                              query_strategy=query_strategy)\n",
    "\n",
    "# initalize a list of results\n",
    "result_list = [sample_df]\n",
    "used = list(sample_df.index)\n",
    "\n",
    "# the active learning loop\n",
    "for i in range(0, n_cycles):\n",
    "    # ask the optimizer for the next set of molecules\n",
    "    query_idx, query_desc = optimizer.query(X_pool, n_instances=n_instances, used=used)\n",
    "    # create dataframe with the next set of molecules\n",
    "    tmp_df = df.iloc[query_idx].copy()\n",
    "    # get the shape scores\n",
    "    shape_res = oracle.get_values(tmp_df.SMILES.values)\n",
    "    # add the results to the dataframe\n",
    "    tmp_df = compile_results(tmp_df, shape_res)\n",
    "    tmp_df['cycle'] = i+1\n",
    "    # add the current dataframe to result_list\n",
    "    result_list.append(tmp_df)\n",
    "    # keep track of the molecules we've used\n",
    "    used += list(tmp_df.index)\n",
    "    # update the optimizer with the new values\n",
    "    optimizer.teach(query_desc, tmp_df.score.values)"
   ]
  },
  {
   "cell_type": "markdown",
   "id": "09128435",
   "metadata": {},
   "source": [
    "Combine the results from the active active learning cycles into a one dataframe. "
   ]
  },
  {
   "cell_type": "code",
   "execution_count": 75,
   "id": "80cac783",
   "metadata": {},
   "outputs": [
    {
     "data": {
      "text/plain": [
       "600"
      ]
     },
     "execution_count": 75,
     "metadata": {},
     "output_type": "execute_result"
    }
   ],
   "source": [
    "combo_df = pd.concat(result_list)\n",
    "len(combo_df)"
   ]
  },
  {
   "cell_type": "markdown",
   "id": "dac141fb",
   "metadata": {},
   "source": [
    "View the score distribution for the active learning selections. "
   ]
  },
  {
   "cell_type": "code",
   "execution_count": 76,
   "id": "f685443a",
   "metadata": {},
   "outputs": [
    {
     "data": {
      "image/png": "[encoded data removed]",
      "text/plain": [
       "<Figure size 500x500 with 1 Axes>"
      ]
     },
     "metadata": {},
     "output_type": "display_data"
    }
   ],
   "source": [
    "sns.displot(x=\"score\",data=combo_df);"
   ]
  },
  {
   "cell_type": "markdown",
   "id": "76743058",
   "metadata": {},
   "source": [
    "### Run Random Selections to Compare With Active Learning\n",
    "Is active learning really better?  Let's select 600 random molecules and compare with the 600 selected using active learning. "
   ]
  },
  {
   "cell_type": "code",
   "execution_count": 65,
   "id": "a04615f0",
   "metadata": {},
   "outputs": [
    {
     "data": {
      "application/vnd.jupyter.widget-view+json": {
       "model_id": "5670b9384ba442a19974e493af41aa4a",
       "version_major": 2,
       "version_minor": 0
      },
      "text/plain": [
       "  0%|          | 0/600 [00:00<?, ?it/s]"
      ]
     },
     "metadata": {},
     "output_type": "display_data"
    },
    {
     "name": "stderr",
     "output_type": "stream",
     "text": [
      "2023-12-03 16:06:50.887 | ERROR    | gen_conformers:generate_conformers:70 - Failed to generate 3D confs for C[C@@H]1C(=O)O[C@@H]2C[C@]34[C@H]5C[C@@H](C(C)(C)C)[C@@]36[C@@H](OC(=O)[C@@H]6O)O[C@@]4(C(=O)O5)[C@@]12O\n",
      "2023-12-03 16:08:37.171 | ERROR    | gen_conformers:generate_conformers:70 - Failed to generate 3D confs for C[C@H](O/N=C1/[C@H]2O[C@@H]2[C@@H](O)[C@H]2[C@H]1CCn1c(=O)n(-c3ccccc3)c(=O)n12)c1cn([C@H]2COC[C@H]2O)nn1\n",
      "2023-12-03 16:09:04.958 | ERROR    | gen_conformers:generate_conformers:70 - Failed to generate 3D confs for C[C@]12[NH2+][C@@H](Cc3ccccc31)c1ccccc12\n"
     ]
    }
   ],
   "source": [
    "random_df = df.sample(600).copy()\n",
    "random_shape_res = oracle.get_values(random_df.SMILES.values)\n",
    "random_df = compile_results(random_df, random_shape_res)"
   ]
  },
  {
   "cell_type": "markdown",
   "id": "327b63d1",
   "metadata": {},
   "source": [
    "View the score distribution for the random selection"
   ]
  },
  {
   "cell_type": "code",
   "execution_count": 77,
   "id": "54bc2f6c",
   "metadata": {},
   "outputs": [
    {
     "data": {
      "image/png": "[encoded data removed]",
      "text/plain": [
       "<Figure size 500x500 with 1 Axes>"
      ]
     },
     "metadata": {},
     "output_type": "display_data"
    }
   ],
   "source": [
    "sns.displot(x=\"score\",data=random_df);"
   ]
  },
  {
   "cell_type": "markdown",
   "id": "2cfc437b",
   "metadata": {},
   "source": [
    "Compare the scores for random selections with active learning. "
   ]
  },
  {
   "cell_type": "code",
   "execution_count": 78,
   "id": "054caae0",
   "metadata": {
    "pycharm": {
     "name": "#%%\n"
    }
   },
   "outputs": [
    {
     "data": {
      "image/png": "[encoded data removed]",
      "text/plain": [
       "<Figure size 640x480 with 1 Axes>"
      ]
     },
     "metadata": {},
     "output_type": "display_data"
    }
   ],
   "source": [
    "active_top_100_df = combo_df.sort_values(\"score\",ascending=False).head(100)\n",
    "active_top_100_df['dataset'] = \"active\"\n",
    "random_top_100_df = random_df.sort_values(\"score\",ascending=False).head(100)\n",
    "random_top_100_df['dataset'] = \"random\"\n",
    "plot_df = pd.concat([active_top_100_df, random_top_100_df])\n",
    "sns.boxplot(x=\"dataset\",y=\"score\",data=plot_df);"
   ]
  },
  {
   "cell_type": "markdown",
   "id": "d68ce763",
   "metadata": {
    "pycharm": {
     "name": "#%% md\n"
    }
   },
   "source": [
    "Plot the scores of the molecules selected in each active learning round.  Remember that the first active learning cycle was randomly selected. "
   ]
  },
  {
   "cell_type": "code",
   "execution_count": 79,
   "id": "9366f78c",
   "metadata": {
    "pycharm": {
     "name": "#%%\n"
    }
   },
   "outputs": [
    {
     "data": {
      "image/png": "[encoded data removed]",
      "text/plain": [
       "<Figure size 640x480 with 1 Axes>"
      ]
     },
     "metadata": {},
     "output_type": "display_data"
    }
   ],
   "source": [
    "ax = sns.boxplot(x=\"cycle\", y=\"score\", data=combo_df,color=\"lightblue\")\n",
    "ax.set_xlabel(\"Active Learning Cycle\");"
   ]
  },
  {
   "cell_type": "markdown",
   "id": "51530f64",
   "metadata": {},
   "source": [
    "Let's look at the highest scoring overlay and make sure our results make sense. We'll use [Py3DMol](https://pypi.org/project/py3Dmol/) to do this."
   ]
  },
  {
   "cell_type": "code",
   "execution_count": 80,
   "id": "ae8cd85b",
   "metadata": {},
   "outputs": [
    {
     "data": {
      "application/3dmoljs_load.v0": "<div id=\"3dmolviewer_17016385971802838\"  style=\"position: relative; width: 640px; height: 480px;\">\n        <p id=\"3dmolwarning_17016385971802838\" style=\"background-color:#ffcccc;color:black\">You appear to be running in JupyterLab (or JavaScript failed to load for some other reason).  You need to install the 3dmol extension: <br>\n        <tt>jupyter labextension install jupyterlab_3dmol</tt></p>\n        </div>\n<script>\n\nvar loadScriptAsync = function(uri){\n  return new Promise((resolve, reject) => {\n    //this is to ignore the existence of requirejs amd\n    var savedexports, savedmodule;\n    if (typeof exports !== 'undefined') savedexports = exports;\n    else exports = {}\n    if (typeof module !== 'undefined') savedmodule = module;\n    else module = {}\n\n    var tag = document.createElement('script');\n    tag.src = uri;\n    tag.async = true;\n    tag.onload = () => {\n        exports = savedexports;\n        module = savedmodule;\n        resolve();\n    };\n  var firstScriptTag = document.getElementsByTagName('script')[0];\n  firstScriptTag.parentNode.insertBefore(tag, firstScriptTag);\n});\n};\n\nif(typeof $3Dmolpromise === 'undefined') {\n$3Dmolpromise = null;\n  $3Dmolpromise = loadScriptAsync('https://cdnjs.cloudflare.com/ajax/libs/3Dmol/2.0.4/3Dmol-min.js');\n}\n\nvar viewer_17016385971802838 = null;\nvar warn = document.getElementById(\"3dmolwarning_17016385971802838\");\nif(warn) {\n    warn.parentNode.removeChild(warn);\n}\n$3Dmolpromise.then(function() {\nviewer_17016385971802838 = $3Dmol.createViewer(document.getElementById(\"3dmolviewer_17016385971802838\"),{backgroundColor:\"white\"});\nviewer_17016385971802838.zoomTo();\n\tviewer_17016385971802838.addModel(\"2CHW_ligand2\\n     RDKit          3D\\n\\n 31 35  0  0  1  0  0  0  0  0999 V2000\\n   50.8990   16.3190   31.0490 C   0  0  0  0  0  0  0  0  0  0  0  0\\n   49.8180   16.4300   31.9910 O   0  0  0  0  0  0  0  0  0  0  0  0\\n   49.0900   17.5720   31.8950 C   0  0  0  0  0  0  0  0  0  0  0  0\\n   49.4830   18.6530   31.1140 C   0  0  0  0  0  0  0  0  0  0  0  0\\n   48.6960   19.8030   31.0690 C   0  0  0  0  0  0  0  0  0  0  0  0\\n   47.5060   19.8780   31.8010 C   0  0  0  0  0  0  0  0  0  0  0  0\\n   47.1210   18.7960   32.5900 C   0  0  0  0  0  0  0  0  0  0  0  0\\n   47.9120   17.6500   32.6170 C   0  0  0  0  0  0  0  0  0  0  0  0\\n   47.4980   16.5900   33.4170 N   0  0  0  0  0  0  0  0  0  0  0  0\\n   48.0760   16.4810   34.6750 C   0  0  0  0  0  0  0  0  0  0  0  0\\n   48.9180   17.3100   34.9960 O   0  0  0  0  0  0  0  0  0  0  0  0\\n   47.6950   15.4550   35.5310 C   0  0  0  0  0  0  0  0  0  0  0  0\\n   48.2370   15.2870   36.8230 C   0  0  0  0  0  0  0  0  0  0  0  0\\n   49.4490   16.3440   37.5170 Cl  0  0  0  0  0  0  0  0  0  0  0  0\\n   47.7970   14.2260   37.6120 C   0  0  0  0  0  0  0  0  0  0  0  0\\n   46.8480   13.3370   37.1520 C   0  0  0  0  0  0  0  0  0  0  0  0\\n   46.3170   13.5250   35.8880 C   0  0  0  0  0  0  0  0  0  0  0  0\\n   46.7300   14.5650   35.0630 C   0  0  0  0  0  0  0  0  0  0  0  0\\n   46.1850   14.6820   33.8300 N   0  0  0  0  0  0  0  0  0  0  0  0\\n   46.5280   15.6630   32.9870 C   0  0  0  0  0  0  0  0  0  0  0  0\\n   45.9320   15.7890   31.5640 C   0  0  0  0  0  0  0  0  0  0  0  0\\n   44.6330   14.5990   31.0330 S   0  0  0  0  0  0  0  0  0  0  0  0\\n   45.2080   13.0480   30.3300 C   0  0  0  0  0  0  0  0  0  0  0  0\\n   46.5170   12.6520   30.2720 C   0  0  0  0  0  0  0  0  0  0  0  0\\n   47.6430   13.2240   30.6340 N   0  0  0  0  0  0  0  0  0  0  0  0\\n   48.6300   12.3630   30.3220 C   0  0  0  0  0  0  0  0  0  0  0  0\\n   48.1340   11.2520   29.7580 N   0  0  0  0  0  0  0  0  0  0  0  0\\n   46.8160   11.3990   29.7150 C   0  0  0  0  0  0  0  0  0  0  0  0\\n   45.8470   10.5960   29.2640 N   0  0  0  0  0  0  0  0  0  0  0  0\\n   44.5940   11.0010   29.3190 C   0  0  0  0  0  0  0  0  0  0  0  0\\n   44.2880   12.1810   29.8280 N   0  0  0  0  0  0  0  0  0  0  0  0\\n  1  2  1  0\\n  2  3  1  0\\n  3  4  2  0\\n  3  8  1  0\\n  4  5  1  0\\n  5  6  2  0\\n  6  7  1  0\\n  7  8  2  0\\n  8  9  1  0\\n  9 10  1  0\\n  9 20  1  0\\n 10 11  2  0\\n 10 12  1  0\\n 12 13  2  0\\n 12 18  1  0\\n 13 14  1  0\\n 13 15  1  0\\n 15 16  2  0\\n 16 17  1  0\\n 17 18  2  0\\n 18 19  1  0\\n 19 20  2  0\\n 20 21  1  0\\n 21 22  1  0\\n 22 23  1  0\\n 23 24  2  0\\n 23 31  1  0\\n 24 25  1  0\\n 24 28  1  0\\n 25 26  2  0\\n 26 27  1  0\\n 27 28  1  0\\n 28 29  2  0\\n 29 30  1  0\\n 30 31  2  0\\nM  END\\n\",\"mol\");\n\tviewer_17016385971802838.addModel(\"\\n     RDKit          3D\\n\\n 18 19  0  0  0  0  0  0  0  0999 V2000\\n   50.9510   16.3220   30.9830 C   0  0  0  0  0  0  0  0  0  0  0  0\\n   49.8418   16.4186   31.8363 O   0  0  0  0  0  0  0  0  0  0  0  0\\n   49.0475   17.5574   31.8577 C   0  0  0  0  0  0  0  0  0  0  0  0\\n   49.3998   18.5964   30.9971 C   0  0  0  0  0  0  0  0  0  0  0  0\\n   48.6728   19.7627   30.9483 C   0  0  0  0  0  0  0  0  0  0  0  0\\n   47.5792   19.8738   31.7808 C   0  0  0  0  0  0  0  0  0  0  0  0\\n   47.2398   18.8407   32.6276 C   0  0  0  0  0  0  0  0  0  0  0  0\\n   47.9532   17.6687   32.6906 C   0  0  0  0  0  0  0  0  0  0  0  0\\n   47.6682   16.5701   33.5292 N   0  0  0  0  0  0  0  0  0  0  0  0\\n   48.1008   16.5685   34.7347 C   0  0  0  0  0  0  0  0  0  0  0  0\\n   48.8775   17.7134   35.1948 C   0  0  0  0  0  0  0  0  0  0  0  0\\n   47.8120   15.4210   35.6406 C   0  0  0  0  0  0  0  0  0  0  0  0\\n   48.2531   15.4109   36.8791 C   0  0  0  0  0  0  0  0  0  0  0  0\\n   49.0051   16.3459   37.5691 O   0  0  0  0  0  1  0  0  0  0  0  0\\n   47.6990   13.8862   37.6265 S   0  0  0  0  0  0  0  0  0  0  0  0\\n   46.4055   13.5340   36.3533 C   0  0  0  0  0  0  0  0  0  0  0  0\\n   47.0557   14.2601   35.2344 C   0  0  0  0  0  0  0  0  0  0  0  0\\n   46.9475   13.8791   34.0156 O   0  0  0  0  0  0  0  0  0  0  0  0\\n  1  2  1  0\\n  2  3  1  0\\n  3  4  2  0\\n  4  5  1  0\\n  5  6  2  0\\n  6  7  1  0\\n  7  8  2  0\\n  8  9  1  0\\n  9 10  2  0\\n 10 11  1  0\\n 10 12  1  0\\n 12 13  2  0\\n 13 14  1  0\\n 13 15  1  0\\n 15 16  1  0\\n 16 17  1  0\\n 17 18  2  0\\n  8  3  1  0\\n 17 12  1  0\\nM  CHG  1  14  -1\\nM  END\\n\",\"mol\");\n\tviewer_17016385971802838.setStyle({\"model\": 0},{\"stick\": {\"colorscheme\": \"greenCarbon\"}});\n\tviewer_17016385971802838.setStyle({\"model\": 1},{\"stick\": {\"colorscheme\": \"lightgreyCarbon\"}});\n\tviewer_17016385971802838.zoomTo();\nviewer_17016385971802838.render();\n});\n</script>",
      "text/html": [
       "<div id=\"3dmolviewer_17016385971802838\"  style=\"position: relative; width: 640px; height: 480px;\">\n",
       "        <p id=\"3dmolwarning_17016385971802838\" style=\"background-color:#ffcccc;color:black\">You appear to be running in JupyterLab (or JavaScript failed to load for some other reason).  You need to install the 3dmol extension: <br>\n",
       "        <tt>jupyter labextension install jupyterlab_3dmol</tt></p>\n",
       "        </div>\n",
       "<script>\n",
       "\n",
       "var loadScriptAsync = function(uri){\n",
       "  return new Promise((resolve, reject) => {\n",
       "    //this is to ignore the existence of requirejs amd\n",
       "    var savedexports, savedmodule;\n",
       "    if (typeof exports !== 'undefined') savedexports = exports;\n",
       "    else exports = {}\n",
       "    if (typeof module !== 'undefined') savedmodule = module;\n",
       "    else module = {}\n",
       "\n",
       "    var tag = document.createElement('script');\n",
       "    tag.src = uri;\n",
       "    tag.async = true;\n",
       "    tag.onload = () => {\n",
       "        exports = savedexports;\n",
       "        module = savedmodule;\n",
       "        resolve();\n",
       "    };\n",
       "  var firstScriptTag = document.getElementsByTagName('script')[0];\n",
       "  firstScriptTag.parentNode.insertBefore(tag, firstScriptTag);\n",
       "});\n",
       "};\n",
       "\n",
       "if(typeof $3Dmolpromise === 'undefined') {\n",
       "$3Dmolpromise = null;\n",
       "  $3Dmolpromise = loadScriptAsync('https://cdnjs.cloudflare.com/ajax/libs/3Dmol/2.0.4/3Dmol-min.js');\n",
       "}\n",
       "\n",
       "var viewer_17016385971802838 = null;\n",
       "var warn = document.getElementById(\"3dmolwarning_17016385971802838\");\n",
       "if(warn) {\n",
       "    warn.parentNode.removeChild(warn);\n",
       "}\n",
       "$3Dmolpromise.then(function() {\n",
       "viewer_17016385971802838 = $3Dmol.createViewer(document.getElementById(\"3dmolviewer_17016385971802838\"),{backgroundColor:\"white\"});\n",
       "viewer_17016385971802838.zoomTo();\n",
       "\tviewer_17016385971802838.addModel(\"2CHW_ligand2\\n     RDKit          3D\\n\\n 31 35  0  0  1  0  0  0  0  0999 V2000\\n   50.8990   16.3190   31.0490 C   0  0  0  0  0  0  0  0  0  0  0  0\\n   49.8180   16.4300   31.9910 O   0  0  0  0  0  0  0  0  0  0  0  0\\n   49.0900   17.5720   31.8950 C   0  0  0  0  0  0  0  0  0  0  0  0\\n   49.4830   18.6530   31.1140 C   0  0  0  0  0  0  0  0  0  0  0  0\\n   48.6960   19.8030   31.0690 C   0  0  0  0  0  0  0  0  0  0  0  0\\n   47.5060   19.8780   31.8010 C   0  0  0  0  0  0  0  0  0  0  0  0\\n   47.1210   18.7960   32.5900 C   0  0  0  0  0  0  0  0  0  0  0  0\\n   47.9120   17.6500   32.6170 C   0  0  0  0  0  0  0  0  0  0  0  0\\n   47.4980   16.5900   33.4170 N   0  0  0  0  0  0  0  0  0  0  0  0\\n   48.0760   16.4810   34.6750 C   0  0  0  0  0  0  0  0  0  0  0  0\\n   48.9180   17.3100   34.9960 O   0  0  0  0  0  0  0  0  0  0  0  0\\n   47.6950   15.4550   35.5310 C   0  0  0  0  0  0  0  0  0  0  0  0\\n   48.2370   15.2870   36.8230 C   0  0  0  0  0  0  0  0  0  0  0  0\\n   49.4490   16.3440   37.5170 Cl  0  0  0  0  0  0  0  0  0  0  0  0\\n   47.7970   14.2260   37.6120 C   0  0  0  0  0  0  0  0  0  0  0  0\\n   46.8480   13.3370   37.1520 C   0  0  0  0  0  0  0  0  0  0  0  0\\n   46.3170   13.5250   35.8880 C   0  0  0  0  0  0  0  0  0  0  0  0\\n   46.7300   14.5650   35.0630 C   0  0  0  0  0  0  0  0  0  0  0  0\\n   46.1850   14.6820   33.8300 N   0  0  0  0  0  0  0  0  0  0  0  0\\n   46.5280   15.6630   32.9870 C   0  0  0  0  0  0  0  0  0  0  0  0\\n   45.9320   15.7890   31.5640 C   0  0  0  0  0  0  0  0  0  0  0  0\\n   44.6330   14.5990   31.0330 S   0  0  0  0  0  0  0  0  0  0  0  0\\n   45.2080   13.0480   30.3300 C   0  0  0  0  0  0  0  0  0  0  0  0\\n   46.5170   12.6520   30.2720 C   0  0  0  0  0  0  0  0  0  0  0  0\\n   47.6430   13.2240   30.6340 N   0  0  0  0  0  0  0  0  0  0  0  0\\n   48.6300   12.3630   30.3220 C   0  0  0  0  0  0  0  0  0  0  0  0\\n   48.1340   11.2520   29.7580 N   0  0  0  0  0  0  0  0  0  0  0  0\\n   46.8160   11.3990   29.7150 C   0  0  0  0  0  0  0  0  0  0  0  0\\n   45.8470   10.5960   29.2640 N   0  0  0  0  0  0  0  0  0  0  0  0\\n   44.5940   11.0010   29.3190 C   0  0  0  0  0  0  0  0  0  0  0  0\\n   44.2880   12.1810   29.8280 N   0  0  0  0  0  0  0  0  0  0  0  0\\n  1  2  1  0\\n  2  3  1  0\\n  3  4  2  0\\n  3  8  1  0\\n  4  5  1  0\\n  5  6  2  0\\n  6  7  1  0\\n  7  8  2  0\\n  8  9  1  0\\n  9 10  1  0\\n  9 20  1  0\\n 10 11  2  0\\n 10 12  1  0\\n 12 13  2  0\\n 12 18  1  0\\n 13 14  1  0\\n 13 15  1  0\\n 15 16  2  0\\n 16 17  1  0\\n 17 18  2  0\\n 18 19  1  0\\n 19 20  2  0\\n 20 21  1  0\\n 21 22  1  0\\n 22 23  1  0\\n 23 24  2  0\\n 23 31  1  0\\n 24 25  1  0\\n 24 28  1  0\\n 25 26  2  0\\n 26 27  1  0\\n 27 28  1  0\\n 28 29  2  0\\n 29 30  1  0\\n 30 31  2  0\\nM  END\\n\",\"mol\");\n",
       "\tviewer_17016385971802838.addModel(\"\\n     RDKit          3D\\n\\n 18 19  0  0  0  0  0  0  0  0999 V2000\\n   50.9510   16.3220   30.9830 C   0  0  0  0  0  0  0  0  0  0  0  0\\n   49.8418   16.4186   31.8363 O   0  0  0  0  0  0  0  0  0  0  0  0\\n   49.0475   17.5574   31.8577 C   0  0  0  0  0  0  0  0  0  0  0  0\\n   49.3998   18.5964   30.9971 C   0  0  0  0  0  0  0  0  0  0  0  0\\n   48.6728   19.7627   30.9483 C   0  0  0  0  0  0  0  0  0  0  0  0\\n   47.5792   19.8738   31.7808 C   0  0  0  0  0  0  0  0  0  0  0  0\\n   47.2398   18.8407   32.6276 C   0  0  0  0  0  0  0  0  0  0  0  0\\n   47.9532   17.6687   32.6906 C   0  0  0  0  0  0  0  0  0  0  0  0\\n   47.6682   16.5701   33.5292 N   0  0  0  0  0  0  0  0  0  0  0  0\\n   48.1008   16.5685   34.7347 C   0  0  0  0  0  0  0  0  0  0  0  0\\n   48.8775   17.7134   35.1948 C   0  0  0  0  0  0  0  0  0  0  0  0\\n   47.8120   15.4210   35.6406 C   0  0  0  0  0  0  0  0  0  0  0  0\\n   48.2531   15.4109   36.8791 C   0  0  0  0  0  0  0  0  0  0  0  0\\n   49.0051   16.3459   37.5691 O   0  0  0  0  0  1  0  0  0  0  0  0\\n   47.6990   13.8862   37.6265 S   0  0  0  0  0  0  0  0  0  0  0  0\\n   46.4055   13.5340   36.3533 C   0  0  0  0  0  0  0  0  0  0  0  0\\n   47.0557   14.2601   35.2344 C   0  0  0  0  0  0  0  0  0  0  0  0\\n   46.9475   13.8791   34.0156 O   0  0  0  0  0  0  0  0  0  0  0  0\\n  1  2  1  0\\n  2  3  1  0\\n  3  4  2  0\\n  4  5  1  0\\n  5  6  2  0\\n  6  7  1  0\\n  7  8  2  0\\n  8  9  1  0\\n  9 10  2  0\\n 10 11  1  0\\n 10 12  1  0\\n 12 13  2  0\\n 13 14  1  0\\n 13 15  1  0\\n 15 16  1  0\\n 16 17  1  0\\n 17 18  2  0\\n  8  3  1  0\\n 17 12  1  0\\nM  CHG  1  14  -1\\nM  END\\n\",\"mol\");\n",
       "\tviewer_17016385971802838.setStyle({\"model\": 0},{\"stick\": {\"colorscheme\": \"greenCarbon\"}});\n",
       "\tviewer_17016385971802838.setStyle({\"model\": 1},{\"stick\": {\"colorscheme\": \"lightgreyCarbon\"}});\n",
       "\tviewer_17016385971802838.zoomTo();\n",
       "viewer_17016385971802838.render();\n",
       "});\n",
       "</script>"
      ]
     },
     "metadata": {},
     "output_type": "display_data"
    }
   ],
   "source": [
    "# read the the query molecule\n",
    "query_mol = Chem.MolFromMolFile(\"data/2chw_lig.sdf\")\n",
    "# get the highest scoring molecule from combo_df\n",
    "db_mol = combo_df.sort_values(\"score\",ascending=False).shape_res.values[0].best_mol\n",
    "db_mol = Chem.RemoveHs(db_mol)\n",
    "# For Py3DMol, we need to convert molecules to molblocks\n",
    "query_mblock = Chem.MolToMolBlock(query_mol)\n",
    "db_mblock = Chem.MolToMolBlock(db_mol)\n",
    "# create a Py3DMol view\n",
    "view = py3Dmol.view()\n",
    "# add the molecules\n",
    "view.addModel(query_mblock, 'mol')\n",
    "view.addModel(db_mblock, 'mol')\n",
    "# color the molecules\n",
    "view.setStyle({'model': 0},{'stick':{'colorscheme':'greenCarbon'}})\n",
    "view.setStyle({'model': 1},{'stick':{'colorscheme':'lightgreyCarbon'}})\n",
    "# Zoom in and show the molecules\n",
    "view.zoomTo()\n",
    "view.show()"
   ]
  },
  {
   "cell_type": "code",
   "execution_count": null,
   "id": "917dd9c5",
   "metadata": {},
   "outputs": [],
   "source": []
  }
 ],
 "metadata": {
  "kernelspec": {
   "display_name": "Python 3 (ipykernel)",
   "language": "python",
   "name": "python3"
  },
  "language_info": {
   "codemirror_mode": {
    "name": "ipython",
    "version": 3
   },
   "file_extension": ".py",
   "mimetype": "text/x-python",
   "name": "python",
   "nbconvert_exporter": "python",
   "pygments_lexer": "ipython3",
   "version": "3.8.16"
  }
 },
 "nbformat": 4,
 "nbformat_minor": 5
}
