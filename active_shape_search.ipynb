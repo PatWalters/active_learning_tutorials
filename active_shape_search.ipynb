{
 "cells": [
  {
   "cell_type": "markdown",
   "id": "5769c09f",
   "metadata": {
    "pycharm": {
     "name": "#%% md\n"
    }
   },
   "source": [
    "### Using Active Learning in a 3D Similarity Search \n",
    "In this tutorial we'll look at a real example where we use active learning to find molecules with similar shape and pharmcophoric features as a query molecule. The code here is very similar to the code in active_regression.ipynb.  The only real change here is in the oracle which scores the molecules. Some of the code and data in this notebook was borrowed. \n",
    "- The query molecule and the database molecules are taken from the [LitPCBA](https://pubs.acs.org/doi/10.1021/acs.jcim.0c00155) set. \n",
    "- The 3D overlay code came from [ESPSim](https://github.com/hesther/espsim)\n",
    "- Some code was also borrowed from [Lig3DLens](https://github.com/healx/lig3dlens)  \n",
    "\n",
    "Thanks to the authors of these packages for their commitment to open science. "
   ]
  },
  {
   "cell_type": "code",
   "execution_count": 1,
   "id": "bdc5358b-51a1-4b8c-bc5d-f484eb8eab6b",
   "metadata": {
    "pycharm": {
     "name": "#%%\n"
    }
   },
   "outputs": [
    {
     "ename": "ModuleNotFoundError",
     "evalue": "No module named 'espsim'",
     "output_type": "error",
     "traceback": [
      "\u001B[0;31m---------------------------------------------------------------------------\u001B[0m",
      "\u001B[0;31mModuleNotFoundError\u001B[0m                       Traceback (most recent call last)",
      "Input \u001B[0;32mIn [1]\u001B[0m, in \u001B[0;36m<cell line: 15>\u001B[0;34m()\u001B[0m\n\u001B[1;32m     13\u001B[0m \u001B[38;5;28;01mfrom\u001B[39;00m \u001B[38;5;21;01msklearn\u001B[39;00m\u001B[38;5;21;01m.\u001B[39;00m\u001B[38;5;21;01mgaussian_process\u001B[39;00m \u001B[38;5;28;01mimport\u001B[39;00m GaussianProcessRegressor\n\u001B[1;32m     14\u001B[0m \u001B[38;5;28;01mfrom\u001B[39;00m \u001B[38;5;21;01mtqdm\u001B[39;00m\u001B[38;5;21;01m.\u001B[39;00m\u001B[38;5;21;01mauto\u001B[39;00m \u001B[38;5;28;01mimport\u001B[39;00m tqdm\n\u001B[0;32m---> 15\u001B[0m \u001B[38;5;28;01mfrom\u001B[39;00m \u001B[38;5;21;01malign3D_score\u001B[39;00m \u001B[38;5;28;01mimport\u001B[39;00m score_alignment\n\u001B[1;32m     16\u001B[0m \u001B[38;5;28;01mfrom\u001B[39;00m \u001B[38;5;21;01mgen_conformers\u001B[39;00m \u001B[38;5;28;01mimport\u001B[39;00m generate_conformers\n\u001B[1;32m     17\u001B[0m \u001B[38;5;28;01mimport\u001B[39;00m \u001B[38;5;21;01mpy3Dmol\u001B[39;00m\n",
      "File \u001B[0;32m~/software/active_learning_tutorials/align3D_score.py:15\u001B[0m, in \u001B[0;36m<module>\u001B[0;34m\u001B[0m\n\u001B[1;32m     12\u001B[0m \u001B[38;5;28;01mimport\u001B[39;00m \u001B[38;5;21;01mos\u001B[39;00m\n\u001B[1;32m     13\u001B[0m \u001B[38;5;28;01mfrom\u001B[39;00m \u001B[38;5;21;01mtyping\u001B[39;00m \u001B[38;5;28;01mimport\u001B[39;00m Optional\n\u001B[0;32m---> 15\u001B[0m \u001B[38;5;28;01mimport\u001B[39;00m \u001B[38;5;21;01mespsim\u001B[39;00m\n\u001B[1;32m     16\u001B[0m \u001B[38;5;28;01mfrom\u001B[39;00m \u001B[38;5;21;01mrdkit\u001B[39;00m \u001B[38;5;28;01mimport\u001B[39;00m Chem, RDConfig, RDLogger\n\u001B[1;32m     17\u001B[0m \u001B[38;5;28;01mfrom\u001B[39;00m \u001B[38;5;21;01mrdkit\u001B[39;00m\u001B[38;5;21;01m.\u001B[39;00m\u001B[38;5;21;01mChem\u001B[39;00m \u001B[38;5;28;01mimport\u001B[39;00m AllChem, Mol, rdMolAlign, rdMolDescriptors, rdShapeHelpers\n",
      "\u001B[0;31mModuleNotFoundError\u001B[0m: No module named 'espsim'"
     ]
    }
   ],
   "source": [
    "from operator import itemgetter\n",
    "\n",
    "import numpy as np\n",
    "import pandas as pd\n",
    "import seaborn as sns\n",
    "import sklearn.gaussian_process as gp\n",
    "import useful_rdkit_utils as uru\n",
    "from modAL.acquisition import BaseLearner\n",
    "from modAL.models import BayesianOptimizer\n",
    "from modAL.utils.data import modALinput\n",
    "from modAL.acquisition import optimizer_PI\n",
    "from rdkit import Chem\n",
    "from sklearn.gaussian_process import GaussianProcessRegressor\n",
    "from tqdm.auto import tqdm\n",
    "from align3D_score import score_alignment\n",
    "from gen_conformers import generate_conformers\n",
    "import py3Dmol"
   ]
  },
  {
   "cell_type": "markdown",
   "id": "94f7e918",
   "metadata": {
    "pycharm": {
     "name": "#%% md\n"
    }
   },
   "source": [
    "### Define an Oracle\n",
    "Here's where we define the oracle that overlays the molecules and compares the shapes and pharmacophoric features. "
   ]
  },
  {
   "cell_type": "code",
   "execution_count": null,
   "id": "ed43e30d",
   "metadata": {
    "pycharm": {
     "name": "#%%\n"
    }
   },
   "outputs": [],
   "source": [
    "class ShapeOracle:\n",
    "    # instantiate the oracle with a query molecule\n",
    "    def __init__(self, ref_molfile):\n",
    "        self.ref_mol = Chem.MolFromMolFile(ref_molfile)\n",
    "        self.ref_mol = Chem.AddHs(self.ref_mol)\n",
    "\n",
    "    def get_values(self, input_smiles_list):\n",
    "        result_list = []\n",
    "        for smi in tqdm(input_smiles_list):\n",
    "            res = None\n",
    "            mol = Chem.MolFromSmiles(smi)\n",
    "            mol = Chem.AddHs(mol)\n",
    "            if mol:       \n",
    "                mol_3d = generate_conformers(mol,25)\n",
    "                if mol_3d:\n",
    "                    res = score_alignment(mol_3d,self.ref_mol)\n",
    "            result_list.append(res)\n",
    "        return result_list"
   ]
  },
  {
   "cell_type": "markdown",
   "id": "9909b693",
   "metadata": {
    "pycharm": {
     "name": "#%% md\n"
    }
   },
   "source": [
    "### Define a Kernel Function for Gaussian Process Regression\n",
    "When we do active learning, we have to define a machine learning models that acts as a surrogate for the more expensive calculations.  In this case, we're going to use Gaussian Process Regression (GPR) to build our regression models.  To use GPR, we need to define a kernel function. Here we calculate a kernel based on the Tanimoto similarities of the molecules."
   ]
  },
  {
   "cell_type": "code",
   "execution_count": null,
   "id": "669dc440-93c9-4d29-8256-4249efb8c213",
   "metadata": {
    "pycharm": {
     "name": "#%%\n"
    }
   },
   "outputs": [],
   "source": [
    "def calculate_similarity(a, b):\n",
    "    # Tanimoto similarity a vs. b\n",
    "    aa = np.sum(a, axis=1, keepdims=True)\n",
    "    bb = np.sum(b, axis=1, keepdims=True)\n",
    "    ab = np.matmul(a, b.T)\n",
    "    return np.true_divide(ab, aa + bb.T - ab)\n",
    "\n",
    "\n",
    "class TanimotoKernel(gp.kernels.NormalizedKernelMixin,\n",
    "                     gp.kernels.StationaryKernelMixin, gp.kernels.Kernel):\n",
    "\n",
    "    def __init__(self):\n",
    "        pass\n",
    "\n",
    "    def __call__(self, X, Y=None, eval_gradient=False):\n",
    "        assert not eval_gradient\n",
    "        if Y is None:\n",
    "            Y = X\n",
    "        return calculate_similarity(X, Y)"
   ]
  },
  {
   "cell_type": "markdown",
   "id": "e99227cf",
   "metadata": {
    "pycharm": {
     "name": "#%% md\n"
    }
   },
   "source": [
    "Enable progress bars for the Pandas apply function."
   ]
  },
  {
   "cell_type": "code",
   "execution_count": null,
   "id": "a1678470-9858-43e8-8132-d9518e1dcd9d",
   "metadata": {
    "pycharm": {
     "name": "#%%\n"
    }
   },
   "outputs": [],
   "source": [
    "tqdm.pandas()"
   ]
  },
  {
   "cell_type": "markdown",
   "id": "bae9d650",
   "metadata": {
    "pycharm": {
     "name": "#%% md\n"
    }
   },
   "source": [
    "### Read the Input Data\n",
    "Read the input data.  This data comes from the [LitPBCBA](https://pubs.acs.org/doi/10.1021/acs.jcim.0c00155) sets. "
   ]
  },
  {
   "cell_type": "code",
   "execution_count": null,
   "id": "ce34db47-4911-41a0-9c04-5c95f56be258",
   "metadata": {
    "pycharm": {
     "name": "#%%\n"
    }
   },
   "outputs": [],
   "source": [
    "df = pd.read_csv(\"MAPK1.csv\")"
   ]
  },
  {
   "cell_type": "markdown",
   "id": "6a4b2af7",
   "metadata": {
    "pycharm": {
     "name": "#%% md\n"
    }
   },
   "source": [
    "Take a quick look at the data.  In this case we're going to ignore the activity column. "
   ]
  },
  {
   "cell_type": "code",
   "execution_count": null,
   "id": "e3c2c66d",
   "metadata": {
    "pycharm": {
     "name": "#%%\n"
    }
   },
   "outputs": [],
   "source": [
    "df"
   ]
  },
  {
   "cell_type": "markdown",
   "id": "7fa703f3",
   "metadata": {
    "pycharm": {
     "name": "#%% md\n"
    }
   },
   "source": [
    "Create a LigandId column, we'll use this when we determine how many of the top 100 molecules we've identified. "
   ]
  },
  {
   "cell_type": "markdown",
   "id": "dfa0db27",
   "metadata": {
    "pycharm": {
     "name": "#%% md\n"
    }
   },
   "source": [
    "### Generate Descriptors for the Machine Learning Model\n",
    "Add a fingerprint column to the dataframe."
   ]
  },
  {
   "cell_type": "code",
   "execution_count": null,
   "id": "12417e8f-f9bb-4f5d-bf89-593247971303",
   "metadata": {
    "pycharm": {
     "name": "#%%\n"
    }
   },
   "outputs": [],
   "source": [
    "df['fp'] = df.SMILES.progress_apply(uru.smi2morgan_fp)"
   ]
  },
  {
   "cell_type": "markdown",
   "id": "d399cef5",
   "metadata": {
    "pycharm": {
     "name": "#%% md\n"
    }
   },
   "source": [
    "Create a pool for fingerprints for the active learning algorithm to draw from."
   ]
  },
  {
   "cell_type": "code",
   "execution_count": null,
   "id": "094e011b-da93-49ab-9798-f0e733069774",
   "metadata": {
    "pycharm": {
     "name": "#%%\n"
    }
   },
   "outputs": [],
   "source": [
    "X_pool = np.stack(df.fp.values)"
   ]
  },
  {
   "cell_type": "markdown",
   "id": "1452e741",
   "metadata": {
    "pycharm": {
     "name": "#%% md\n"
    }
   },
   "source": [
    "For the greedy search, we want to select the best scoring molecules, but we want to avoid selecting the same molecules multiple times. This function accepts a list of predictions and does the following.\n",
    "- Sort by score\n",
    "- Remove the molecules that were previously selected\n",
    "- Return the top **n_to_choose**"
   ]
  },
  {
   "cell_type": "markdown",
   "id": "de40f7b8",
   "metadata": {
    "pycharm": {
     "name": "#%% md\n"
    }
   },
   "source": [
    "### Define a Few Utility Functions"
   ]
  },
  {
   "cell_type": "markdown",
   "id": "7dfd32ec",
   "metadata": {
    "pycharm": {
     "name": "#%% md\n"
    }
   },
   "source": [
    "A utility function used by the acquisition functions"
   ]
  },
  {
   "cell_type": "code",
   "execution_count": null,
   "id": "cc13556d",
   "metadata": {
    "pycharm": {
     "name": "#%%\n"
    }
   },
   "outputs": [],
   "source": [
    "def find_best_idx(predicted, used, num_to_choose):\n",
    "    tmp_list = list(enumerate(predicted))\n",
    "    tmp_list.sort(key=itemgetter(1), reverse=True)\n",
    "    tmp_list = [x for x in tmp_list if x[0] not in used]\n",
    "    tmp_list = [x[0] for x in tmp_list]\n",
    "    return tmp_list[:num_to_choose]"
   ]
  },
  {
   "cell_type": "markdown",
   "id": "67761d91",
   "metadata": {
    "pycharm": {
     "name": "#%% md\n"
    }
   },
   "source": [
    "A function to combine the results from the shape search into the dataframe with the molecules. "
   ]
  },
  {
   "cell_type": "code",
   "execution_count": null,
   "id": "ee088e38",
   "metadata": {
    "pycharm": {
     "name": "#%%\n"
    }
   },
   "outputs": [],
   "source": [
    "def compile_results(df_in, shape_results):\n",
    "    df_in['shape_res'] = shape_results\n",
    "    df_in.dropna(subset='shape_res',inplace=True)\n",
    "    df_in['score'] = [x.shape_score + x.esp_score + x.rdkit_score for x in df_in.shape_res]\n",
    "    return df_in"
   ]
  },
  {
   "cell_type": "markdown",
   "id": "f1df581e",
   "metadata": {
    "pycharm": {
     "name": "#%% md\n"
    }
   },
   "source": [
    "### Define Acquisition Functions\n",
    "Here are a couple of acquistion functions.  The first **greedy** simply selects the **n** top scoring molecules to be evaluated by the oracle.  The second **my_max_PI** maximizes the Probability of Improvement (PI) and uses uncertainty and the scores to balance exploration and exploitation.  The git repo associated with our paper [\"Optimizing active learning for free energy calculations\"](https://www.sciencedirect.com/science/article/pii/S2667318522000204) has examples of several other acquistion functions.  TLDR from our work, the acquistion function doesn't make a huge difference. "
   ]
  },
  {
   "cell_type": "code",
   "execution_count": null,
   "id": "241046d8",
   "metadata": {
    "pycharm": {
     "name": "#%%\n"
    }
   },
   "outputs": [],
   "source": [
    "def greedy(optimizer: BaseLearner, X: modALinput, n_instances=1, used=[]):\n",
    "    res = optimizer.predict(X)\n",
    "    best_idx = find_best_idx(res, used, n_instances)\n",
    "    return best_idx, X[best_idx]\n",
    "\n",
    "def my_max_PI(optimizer: BaseLearner, X: modALinput, tradeoff: float = 0,\n",
    "           n_instances: int = 1, used = [], cycle = -1) -> np.ndarray:\n",
    "    pi = optimizer_PI(optimizer, X, tradeoff=tradeoff)\n",
    "    best_idx = find_best_idx(pi, used, n_instances)\n",
    "    return best_idx, X[best_idx]"
   ]
  },
  {
   "cell_type": "markdown",
   "id": "7d2e2253",
   "metadata": {
    "pycharm": {
     "name": "#%% md\n"
    }
   },
   "source": [
    "### Run Active Learning"
   ]
  },
  {
   "cell_type": "markdown",
   "id": "73b52131",
   "metadata": {
    "pycharm": {
     "name": "#%% md\n"
    }
   },
   "source": [
    "Create an oracle that will return values."
   ]
  },
  {
   "cell_type": "code",
   "execution_count": null,
   "id": "aefb3804",
   "metadata": {
    "pycharm": {
     "name": "#%%\n"
    }
   },
   "outputs": [],
   "source": [
    "oracle = ShapeOracle(\"data/2chw_lig.sdf\")"
   ]
  },
  {
   "cell_type": "markdown",
   "id": "bf69645c",
   "metadata": {
    "pycharm": {
     "name": "#%% md\n"
    }
   },
   "source": [
    "This is the main active learning loop."
   ]
  },
  {
   "cell_type": "code",
   "execution_count": null,
   "id": "575b177f",
   "metadata": {
    "pycharm": {
     "name": "#%%\n"
    }
   },
   "outputs": [],
   "source": [
    "# number of molecules to select at each active learning cycle\n",
    "n_instances = 100\n",
    "# number of active learning cycles to run\n",
    "n_cycles = 5\n",
    "\n",
    "# define the acquistion function\n",
    "query_strategy = my_max_PI\n",
    "\n",
    "# select an initial random sample\n",
    "sample_df = df.sample(n_instances).copy()\n",
    "sample_df['cycle'] = 0\n",
    "# get the shape scores for the random sample\n",
    "init_shape_res = oracle.get_values(sample_df.SMILES.values)\n",
    "# add the scores to the dataframe\n",
    "sample_df = compile_results(sample_df, init_shape_res)\n",
    "# define X and y to train the initial model\n",
    "X_initial = sample_df.fp.values\n",
    "y_initial = sample_df.score.values\n",
    "\n",
    "# instantiate the optimizer with an estimator, training data, and an acquistion function\n",
    "optimizer = BayesianOptimizer(estimator=GaussianProcessRegressor(kernel=TanimotoKernel()),\n",
    "                              X_training=np.stack(X_initial), y_training=y_initial,\n",
    "                              query_strategy=query_strategy)\n",
    "\n",
    "# initalize a list of results\n",
    "result_list = [sample_df]\n",
    "used = list(sample_df.index)\n",
    "\n",
    "# the active learning loop\n",
    "for i in range(0, n_cycles):\n",
    "    # ask the optimizer for the next set of molecules\n",
    "    query_idx, query_desc = optimizer.query(X_pool, n_instances=n_instances, used=used)\n",
    "    # create dataframe with the next set of molecules\n",
    "    tmp_df = df.iloc[query_idx].copy()\n",
    "    # get the shape scores\n",
    "    shape_res = oracle.get_values(tmp_df.SMILES.values)\n",
    "    # add the results to the dataframe\n",
    "    tmp_df = compile_results(tmp_df, shape_res)\n",
    "    tmp_df['cycle'] = i+1\n",
    "    # add the current dataframe to result_list\n",
    "    result_list.append(tmp_df)\n",
    "    # keep track of the molecules we've used\n",
    "    used += list(tmp_df.index)\n",
    "    # update the optimizer with the new values\n",
    "    optimizer.teach(query_desc, tmp_df.score.values)"
   ]
  },
  {
   "cell_type": "markdown",
   "id": "09128435",
   "metadata": {
    "pycharm": {
     "name": "#%% md\n"
    }
   },
   "source": [
    "Combine the results from the active active learning cycles into a one dataframe. "
   ]
  },
  {
   "cell_type": "code",
   "execution_count": null,
   "id": "80cac783",
   "metadata": {
    "pycharm": {
     "name": "#%%\n"
    }
   },
   "outputs": [],
   "source": [
    "combo_df = pd.concat(result_list)\n",
    "len(combo_df)"
   ]
  },
  {
   "cell_type": "markdown",
   "id": "dac141fb",
   "metadata": {
    "pycharm": {
     "name": "#%% md\n"
    }
   },
   "source": [
    "View the score distribution for the active learning selections. "
   ]
  },
  {
   "cell_type": "code",
   "execution_count": null,
   "id": "f685443a",
   "metadata": {
    "pycharm": {
     "name": "#%%\n"
    }
   },
   "outputs": [],
   "source": [
    "sns.displot(x=\"score\",data=combo_df);"
   ]
  },
  {
   "cell_type": "markdown",
   "id": "76743058",
   "metadata": {
    "pycharm": {
     "name": "#%% md\n"
    }
   },
   "source": [
    "### Run Random Selections to Compare With Active Learning\n",
    "Is active learning really better?  Let's select 600 random molecules and compare with the 600 selected using active learning. "
   ]
  },
  {
   "cell_type": "code",
   "execution_count": null,
   "id": "a04615f0",
   "metadata": {
    "pycharm": {
     "name": "#%%\n"
    }
   },
   "outputs": [],
   "source": [
    "random_df = df.sample(600).copy()\n",
    "random_shape_res = oracle.get_values(random_df.SMILES.values)\n",
    "random_df = compile_results(random_df, random_shape_res)"
   ]
  },
  {
   "cell_type": "markdown",
   "id": "327b63d1",
   "metadata": {
    "pycharm": {
     "name": "#%% md\n"
    }
   },
   "source": [
    "View the score distribution for the random selection"
   ]
  },
  {
   "cell_type": "code",
   "execution_count": null,
   "id": "54bc2f6c",
   "metadata": {
    "pycharm": {
     "name": "#%%\n"
    }
   },
   "outputs": [],
   "source": [
    "sns.displot(x=\"score\",data=random_df);"
   ]
  },
  {
   "cell_type": "markdown",
   "id": "2cfc437b",
   "metadata": {
    "pycharm": {
     "name": "#%% md\n"
    }
   },
   "source": [
    "Compare the scores for random selections with active learning. "
   ]
  },
  {
   "cell_type": "code",
   "execution_count": null,
   "id": "054caae0",
   "metadata": {
    "pycharm": {
     "name": "#%%\n"
    }
   },
   "outputs": [],
   "source": [
    "active_top_100_df = combo_df.sort_values(\"score\",ascending=False).head(100)\n",
    "active_top_100_df['dataset'] = \"active\"\n",
    "random_top_100_df = random_df.sort_values(\"score\",ascending=False).head(100)\n",
    "random_top_100_df['dataset'] = \"random\"\n",
    "plot_df = pd.concat([active_top_100_df, random_top_100_df])\n",
    "sns.boxplot(x=\"dataset\",y=\"score\",data=plot_df);"
   ]
  },
  {
   "cell_type": "markdown",
   "id": "d68ce763",
   "metadata": {
    "pycharm": {
     "name": "#%% md\n"
    }
   },
   "source": [
    "Plot the scores of the molecules selected in each active learning round.  Remember that the first active learning cycle was randomly selected. "
   ]
  },
  {
   "cell_type": "code",
   "execution_count": null,
   "id": "9366f78c",
   "metadata": {
    "pycharm": {
     "name": "#%%\n"
    }
   },
   "outputs": [],
   "source": [
    "ax = sns.boxplot(x=\"cycle\", y=\"score\", data=combo_df,color=\"lightblue\")\n",
    "ax.set_xlabel(\"Active Learning Cycle\");"
   ]
  },
  {
   "cell_type": "markdown",
   "id": "51530f64",
   "metadata": {
    "pycharm": {
     "name": "#%% md\n"
    }
   },
   "source": [
    "Let's look at the highest scoring overlay and make sure our results make sense. We'll use [Py3DMol](https://pypi.org/project/py3Dmol/) to do this."
   ]
  },
  {
   "cell_type": "code",
   "execution_count": null,
   "id": "ae8cd85b",
   "metadata": {
    "pycharm": {
     "name": "#%%\n"
    }
   },
   "outputs": [],
   "source": [
    "# read the the query molecule\n",
    "query_mol = Chem.MolFromMolFile(\"data/2chw_lig.sdf\")\n",
    "# get the highest scoring molecule from combo_df\n",
    "db_mol = combo_df.sort_values(\"score\",ascending=False).shape_res.values[0].best_mol\n",
    "db_mol = Chem.RemoveHs(db_mol)\n",
    "# For Py3DMol, we need to convert molecules to molblocks\n",
    "query_mblock = Chem.MolToMolBlock(query_mol)\n",
    "db_mblock = Chem.MolToMolBlock(db_mol)\n",
    "# create a Py3DMol view\n",
    "view = py3Dmol.view()\n",
    "# add the molecules\n",
    "view.addModel(query_mblock, 'mol')\n",
    "view.addModel(db_mblock, 'mol')\n",
    "# color the molecules\n",
    "view.setStyle({'model': 0},{'stick':{'colorscheme':'greenCarbon'}})\n",
    "view.setStyle({'model': 1},{'stick':{'colorscheme':'lightgreyCarbon'}})\n",
    "# Zoom in and show the molecules\n",
    "view.zoomTo()\n",
    "view.show()"
   ]
  },
  {
   "cell_type": "code",
   "execution_count": null,
   "id": "917dd9c5",
   "metadata": {
    "pycharm": {
     "name": "#%%\n"
    }
   },
   "outputs": [],
   "source": []
  }
 ],
 "metadata": {
  "kernelspec": {
   "display_name": "Python 3 (ipykernel)",
   "language": "python",
   "name": "python3"
  },
  "language_info": {
   "codemirror_mode": {
    "name": "ipython",
    "version": 3
   },
   "file_extension": ".py",
   "mimetype": "text/x-python",
   "name": "python",
   "nbconvert_exporter": "python",
   "pygments_lexer": "ipython3",
   "version": "3.8.16"
  }
 },
 "nbformat": 4,
 "nbformat_minor": 5
}